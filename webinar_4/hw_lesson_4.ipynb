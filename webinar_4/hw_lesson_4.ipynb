{
 "cells": [
  {
   "cell_type": "markdown",
   "id": "7e5e6233",
   "metadata": {},
   "source": [
    "## Задание\n",
    "\n",
    "\n",
    "- Объединить в одну выборку (это только для твитов), для роспотребнадзора сформировать датасет из вопросов\n",
    "- Провести исследование и выявить тематики о которых говорят в твитах (для твитов), а для роспотребнадзора так же выявить тематики о которых люди пишут проанализировать\n",
    "- Сделать визуализацию кластеров тематик\n",
    "- Проинтерпритировать получившиеся тематики\n",
    "\n",
    "---"
   ]
  },
  {
   "cell_type": "code",
   "execution_count": 1,
   "id": "7f796e38",
   "metadata": {},
   "outputs": [
    {
     "name": "stdout",
     "output_type": "stream",
     "text": [
      "Requirement already satisfied: pymorphy2 in /Users/ilya.ivolgin/opt/miniconda3/envs/geek/lib/python3.9/site-packages (0.9.1)\n",
      "Requirement already satisfied: docopt>=0.6 in /Users/ilya.ivolgin/opt/miniconda3/envs/geek/lib/python3.9/site-packages (from pymorphy2) (0.6.2)\n",
      "Requirement already satisfied: pymorphy2-dicts-ru<3.0,>=2.4 in /Users/ilya.ivolgin/opt/miniconda3/envs/geek/lib/python3.9/site-packages (from pymorphy2) (2.4.417127.4579844)\n",
      "Requirement already satisfied: dawg-python>=0.7.1 in /Users/ilya.ivolgin/opt/miniconda3/envs/geek/lib/python3.9/site-packages (from pymorphy2) (0.7.2)\n",
      "Collecting pyLDAvis\n",
      "  Downloading pyLDAvis-3.3.1.tar.gz (1.7 MB)\n",
      "\u001b[K     |████████████████████████████████| 1.7 MB 1.7 MB/s eta 0:00:01\n",
      "\u001b[?25h  Installing build dependencies ... \u001b[?25ldone\n",
      "\u001b[?25h  Getting requirements to build wheel ... \u001b[?25ldone\n",
      "\u001b[?25h  Installing backend dependencies ... \u001b[?25ldone\n",
      "\u001b[?25h    Preparing wheel metadata ... \u001b[?25ldone\n",
      "\u001b[?25hRequirement already satisfied: joblib in /Users/ilya.ivolgin/opt/miniconda3/envs/geek/lib/python3.9/site-packages (from pyLDAvis) (1.1.0)\n",
      "Requirement already satisfied: scipy in /Users/ilya.ivolgin/opt/miniconda3/envs/geek/lib/python3.9/site-packages (from pyLDAvis) (1.7.3)\n",
      "Collecting funcy\n",
      "  Downloading funcy-1.17-py2.py3-none-any.whl (33 kB)\n",
      "Collecting future\n",
      "  Using cached future-0.18.2-py3-none-any.whl\n",
      "Collecting sklearn\n",
      "  Downloading sklearn-0.0.tar.gz (1.1 kB)\n",
      "Requirement already satisfied: numexpr in /Users/ilya.ivolgin/opt/miniconda3/envs/geek/lib/python3.9/site-packages (from pyLDAvis) (2.8.1)\n",
      "Requirement already satisfied: numpy>=1.20.0 in /Users/ilya.ivolgin/opt/miniconda3/envs/geek/lib/python3.9/site-packages (from pyLDAvis) (1.21.4)\n",
      "Requirement already satisfied: gensim in /Users/ilya.ivolgin/opt/miniconda3/envs/geek/lib/python3.9/site-packages (from pyLDAvis) (4.1.2)\n",
      "Requirement already satisfied: jinja2 in /Users/ilya.ivolgin/opt/miniconda3/envs/geek/lib/python3.9/site-packages (from pyLDAvis) (3.0.3)\n",
      "Requirement already satisfied: setuptools in /Users/ilya.ivolgin/opt/miniconda3/envs/geek/lib/python3.9/site-packages (from pyLDAvis) (58.0.4)\n",
      "Requirement already satisfied: pandas>=1.2.0 in /Users/ilya.ivolgin/opt/miniconda3/envs/geek/lib/python3.9/site-packages (from pyLDAvis) (1.4.2)\n",
      "Requirement already satisfied: scikit-learn in /Users/ilya.ivolgin/opt/miniconda3/envs/geek/lib/python3.9/site-packages (from pyLDAvis) (1.0.2)\n",
      "Requirement already satisfied: python-dateutil>=2.8.1 in /Users/ilya.ivolgin/opt/miniconda3/envs/geek/lib/python3.9/site-packages (from pandas>=1.2.0->pyLDAvis) (2.8.2)\n",
      "Requirement already satisfied: pytz>=2020.1 in /Users/ilya.ivolgin/opt/miniconda3/envs/geek/lib/python3.9/site-packages (from pandas>=1.2.0->pyLDAvis) (2021.3)\n",
      "Requirement already satisfied: six>=1.5 in /Users/ilya.ivolgin/opt/miniconda3/envs/geek/lib/python3.9/site-packages (from python-dateutil>=2.8.1->pandas>=1.2.0->pyLDAvis) (1.16.0)\n",
      "Requirement already satisfied: smart-open>=1.8.1 in /Users/ilya.ivolgin/opt/miniconda3/envs/geek/lib/python3.9/site-packages (from gensim->pyLDAvis) (5.2.1)\n",
      "Requirement already satisfied: MarkupSafe>=2.0 in /Users/ilya.ivolgin/opt/miniconda3/envs/geek/lib/python3.9/site-packages (from jinja2->pyLDAvis) (2.0.1)\n",
      "Requirement already satisfied: packaging in /Users/ilya.ivolgin/opt/miniconda3/envs/geek/lib/python3.9/site-packages (from numexpr->pyLDAvis) (21.3)\n",
      "Requirement already satisfied: pyparsing!=3.0.5,>=2.0.2 in /Users/ilya.ivolgin/opt/miniconda3/envs/geek/lib/python3.9/site-packages (from packaging->numexpr->pyLDAvis) (3.0.4)\n",
      "Requirement already satisfied: threadpoolctl>=2.0.0 in /Users/ilya.ivolgin/opt/miniconda3/envs/geek/lib/python3.9/site-packages (from scikit-learn->pyLDAvis) (3.0.0)\n",
      "Building wheels for collected packages: pyLDAvis, sklearn\n",
      "  Building wheel for pyLDAvis (PEP 517) ... \u001b[?25ldone\n",
      "\u001b[?25h  Created wheel for pyLDAvis: filename=pyLDAvis-3.3.1-py2.py3-none-any.whl size=136882 sha256=cc740a88fe072b7f948c02a20db295522e16b4bcb23b17e0ebc9f5ea39c1bafb\n",
      "  Stored in directory: /Users/ilya.ivolgin/Library/Caches/pip/wheels/57/a4/86/d10c6c2e0bf149fbc0afb0aa5a6528ac35b30a133a0270c477\n",
      "  Building wheel for sklearn (setup.py) ... \u001b[?25ldone\n",
      "\u001b[?25h  Created wheel for sklearn: filename=sklearn-0.0-py2.py3-none-any.whl size=1310 sha256=4c0f5e391f9df4ce7cda7745aa6cd4e6a335a52eff5491b90c067d4ebbe7dded\n",
      "  Stored in directory: /Users/ilya.ivolgin/Library/Caches/pip/wheels/e4/7b/98/b6466d71b8d738a0c547008b9eb39bf8676d1ff6ca4b22af1c\n",
      "Successfully built pyLDAvis sklearn\n",
      "Installing collected packages: sklearn, future, funcy, pyLDAvis\n",
      "Successfully installed funcy-1.17 future-0.18.2 pyLDAvis-3.3.1 sklearn-0.0\n"
     ]
    }
   ],
   "source": [
    "!pip install pymorphy2\n",
    "!pip install pyLDAvis"
   ]
  },
  {
   "cell_type": "code",
   "execution_count": 5,
   "id": "7683f33d",
   "metadata": {},
   "outputs": [
    {
     "name": "stdout",
     "output_type": "stream",
     "text": [
      "Collecting pymystem3\n",
      "  Downloading pymystem3-0.2.0-py3-none-any.whl (10 kB)\n",
      "Requirement already satisfied: requests in /Users/ilya.ivolgin/opt/miniconda3/envs/geek/lib/python3.9/site-packages (from pymystem3) (2.27.1)\n",
      "Requirement already satisfied: certifi>=2017.4.17 in /Users/ilya.ivolgin/opt/miniconda3/envs/geek/lib/python3.9/site-packages (from requests->pymystem3) (2022.6.15)\n",
      "Requirement already satisfied: idna<4,>=2.5 in /Users/ilya.ivolgin/opt/miniconda3/envs/geek/lib/python3.9/site-packages (from requests->pymystem3) (3.3)\n",
      "Requirement already satisfied: charset-normalizer~=2.0.0 in /Users/ilya.ivolgin/opt/miniconda3/envs/geek/lib/python3.9/site-packages (from requests->pymystem3) (2.0.7)\n",
      "Requirement already satisfied: urllib3<1.27,>=1.21.1 in /Users/ilya.ivolgin/opt/miniconda3/envs/geek/lib/python3.9/site-packages (from requests->pymystem3) (1.26.8)\n",
      "Installing collected packages: pymystem3\n",
      "Successfully installed pymystem3-0.2.0\n"
     ]
    }
   ],
   "source": [
    "!pip install pymystem3"
   ]
  },
  {
   "cell_type": "markdown",
   "id": "d01891ad",
   "metadata": {},
   "source": [
    "---"
   ]
  },
  {
   "cell_type": "code",
   "execution_count": 6,
   "id": "e982d0e7",
   "metadata": {},
   "outputs": [
    {
     "name": "stderr",
     "output_type": "stream",
     "text": [
      "[nltk_data] Downloading package stopwords to\n",
      "[nltk_data]     /Users/ilya.ivolgin/nltk_data...\n",
      "[nltk_data]   Unzipping corpora/stopwords.zip.\n"
     ]
    }
   ],
   "source": [
    "# Import libraries\n",
    "\n",
    "import pandas as pd\n",
    "import re\n",
    "import numpy as np\n",
    "from nltk.corpus import stopwords\n",
    "from pymystem3 import Mystem\n",
    "import nltk\n",
    "nltk.download('stopwords')\n",
    "import pymorphy2\n",
    "from gensim.models import *\n",
    "from gensim import corpora\n",
    "import pyLDAvis\n",
    "import pyLDAvis.gensim_models as gensimvis\n",
    "import matplotlib.pyplot as plt\n",
    "import warnings\n",
    "def fxn():\n",
    "    warnings.warn(\"deprecated\", DeprecationWarning)\n",
    "with warnings.catch_warnings():\n",
    "    warnings.simplefilter(\"ignore\")\n",
    "    fxn()"
   ]
  },
  {
   "cell_type": "markdown",
   "id": "15a02d40",
   "metadata": {},
   "source": [
    "---"
   ]
  },
  {
   "cell_type": "code",
   "execution_count": 7,
   "id": "f921f097",
   "metadata": {},
   "outputs": [
    {
     "data": {
      "text/html": [
       "<div>\n",
       "<style scoped>\n",
       "    .dataframe tbody tr th:only-of-type {\n",
       "        vertical-align: middle;\n",
       "    }\n",
       "\n",
       "    .dataframe tbody tr th {\n",
       "        vertical-align: top;\n",
       "    }\n",
       "\n",
       "    .dataframe thead th {\n",
       "        text-align: right;\n",
       "    }\n",
       "</style>\n",
       "<table border=\"1\" class=\"dataframe\">\n",
       "  <thead>\n",
       "    <tr style=\"text-align: right;\">\n",
       "      <th></th>\n",
       "      <th>text</th>\n",
       "      <th>label</th>\n",
       "    </tr>\n",
       "  </thead>\n",
       "  <tbody>\n",
       "    <tr>\n",
       "      <th>0</th>\n",
       "      <td>@first_timee хоть я и школота, но поверь, у на...</td>\n",
       "      <td>positive</td>\n",
       "    </tr>\n",
       "    <tr>\n",
       "      <th>1</th>\n",
       "      <td>Да, все-таки он немного похож на него. Но мой ...</td>\n",
       "      <td>positive</td>\n",
       "    </tr>\n",
       "    <tr>\n",
       "      <th>2</th>\n",
       "      <td>RT @KatiaCheh: Ну ты идиотка) я испугалась за ...</td>\n",
       "      <td>positive</td>\n",
       "    </tr>\n",
       "    <tr>\n",
       "      <th>3</th>\n",
       "      <td>RT @digger2912: \"Кто то в углу сидит и погибае...</td>\n",
       "      <td>positive</td>\n",
       "    </tr>\n",
       "    <tr>\n",
       "      <th>4</th>\n",
       "      <td>@irina_dyshkant Вот что значит страшилка :D\\nН...</td>\n",
       "      <td>positive</td>\n",
       "    </tr>\n",
       "  </tbody>\n",
       "</table>\n",
       "</div>"
      ],
      "text/plain": [
       "                                                text     label\n",
       "0  @first_timee хоть я и школота, но поверь, у на...  positive\n",
       "1  Да, все-таки он немного похож на него. Но мой ...  positive\n",
       "2  RT @KatiaCheh: Ну ты идиотка) я испугалась за ...  positive\n",
       "3  RT @digger2912: \"Кто то в углу сидит и погибае...  positive\n",
       "4  @irina_dyshkant Вот что значит страшилка :D\\nН...  positive"
      ]
     },
     "execution_count": 7,
     "metadata": {},
     "output_type": "execute_result"
    }
   ],
   "source": [
    "positive = pd.read_csv('positive.csv', sep = ';', usecols = [3], names = ['text'])\n",
    "positive['label'] = ['positive'] * len(positive)\n",
    "\n",
    "negative = pd.read_csv('negative.csv', sep = ';', usecols = [3], names = ['text'])\n",
    "negative['label'] = ['negative'] * len(negative)\n",
    "\n",
    "df = pd.concat([positive, negative], ignore_index = True)\n",
    "df.head()"
   ]
  },
  {
   "cell_type": "code",
   "execution_count": 8,
   "id": "2c8effd7",
   "metadata": {},
   "outputs": [
    {
     "name": "stdout",
     "output_type": "stream",
     "text": [
      "<class 'pandas.core.frame.DataFrame'>\n",
      "RangeIndex: 226834 entries, 0 to 226833\n",
      "Data columns (total 2 columns):\n",
      " #   Column  Non-Null Count   Dtype \n",
      "---  ------  --------------   ----- \n",
      " 0   text    226834 non-null  object\n",
      " 1   label   226834 non-null  object\n",
      "dtypes: object(2)\n",
      "memory usage: 3.5+ MB\n"
     ]
    }
   ],
   "source": [
    "df.info()"
   ]
  },
  {
   "cell_type": "code",
   "execution_count": 9,
   "id": "609b29f0",
   "metadata": {},
   "outputs": [
    {
     "name": "stderr",
     "output_type": "stream",
     "text": [
      "<>:1: DeprecationWarning: invalid escape sequence \\w\n",
      "<>:1: DeprecationWarning: invalid escape sequence \\w\n",
      "/var/folders/wf/0ws1q6ks6yv_xwm2_24s254h0000gn/T/ipykernel_96185/747707785.py:1: DeprecationWarning: invalid escape sequence \\w\n",
      "  words_regex = re.compile('\\w+')\n",
      "/Users/ilya.ivolgin/opt/miniconda3/envs/geek/lib/python3.9/site-packages/pymorphy2/units/base.py:70: DeprecationWarning: inspect.getargspec() is deprecated since Python 3.0, use inspect.signature() or inspect.getfullargspec()\n",
      "  args, varargs, kw, default = inspect.getargspec(cls.__init__)\n",
      "/Users/ilya.ivolgin/opt/miniconda3/envs/geek/lib/python3.9/site-packages/pymorphy2/units/base.py:70: DeprecationWarning: inspect.getargspec() is deprecated since Python 3.0, use inspect.signature() or inspect.getfullargspec()\n",
      "  args, varargs, kw, default = inspect.getargspec(cls.__init__)\n",
      "/Users/ilya.ivolgin/opt/miniconda3/envs/geek/lib/python3.9/site-packages/pymorphy2/units/base.py:70: DeprecationWarning: inspect.getargspec() is deprecated since Python 3.0, use inspect.signature() or inspect.getfullargspec()\n",
      "  args, varargs, kw, default = inspect.getargspec(cls.__init__)\n",
      "/Users/ilya.ivolgin/opt/miniconda3/envs/geek/lib/python3.9/site-packages/pymorphy2/units/base.py:70: DeprecationWarning: inspect.getargspec() is deprecated since Python 3.0, use inspect.signature() or inspect.getfullargspec()\n",
      "  args, varargs, kw, default = inspect.getargspec(cls.__init__)\n",
      "/Users/ilya.ivolgin/opt/miniconda3/envs/geek/lib/python3.9/site-packages/pymorphy2/units/base.py:70: DeprecationWarning: inspect.getargspec() is deprecated since Python 3.0, use inspect.signature() or inspect.getfullargspec()\n",
      "  args, varargs, kw, default = inspect.getargspec(cls.__init__)\n",
      "/Users/ilya.ivolgin/opt/miniconda3/envs/geek/lib/python3.9/site-packages/pymorphy2/units/base.py:70: DeprecationWarning: inspect.getargspec() is deprecated since Python 3.0, use inspect.signature() or inspect.getfullargspec()\n",
      "  args, varargs, kw, default = inspect.getargspec(cls.__init__)\n",
      "/Users/ilya.ivolgin/opt/miniconda3/envs/geek/lib/python3.9/site-packages/pymorphy2/units/base.py:70: DeprecationWarning: inspect.getargspec() is deprecated since Python 3.0, use inspect.signature() or inspect.getfullargspec()\n",
      "  args, varargs, kw, default = inspect.getargspec(cls.__init__)\n",
      "/Users/ilya.ivolgin/opt/miniconda3/envs/geek/lib/python3.9/site-packages/pymorphy2/units/base.py:70: DeprecationWarning: inspect.getargspec() is deprecated since Python 3.0, use inspect.signature() or inspect.getfullargspec()\n",
      "  args, varargs, kw, default = inspect.getargspec(cls.__init__)\n",
      "/Users/ilya.ivolgin/opt/miniconda3/envs/geek/lib/python3.9/site-packages/pymorphy2/units/base.py:70: DeprecationWarning: inspect.getargspec() is deprecated since Python 3.0, use inspect.signature() or inspect.getfullargspec()\n",
      "  args, varargs, kw, default = inspect.getargspec(cls.__init__)\n",
      "/Users/ilya.ivolgin/opt/miniconda3/envs/geek/lib/python3.9/site-packages/pymorphy2/units/base.py:70: DeprecationWarning: inspect.getargspec() is deprecated since Python 3.0, use inspect.signature() or inspect.getfullargspec()\n",
      "  args, varargs, kw, default = inspect.getargspec(cls.__init__)\n",
      "/Users/ilya.ivolgin/opt/miniconda3/envs/geek/lib/python3.9/site-packages/pymorphy2/units/base.py:70: DeprecationWarning: inspect.getargspec() is deprecated since Python 3.0, use inspect.signature() or inspect.getfullargspec()\n",
      "  args, varargs, kw, default = inspect.getargspec(cls.__init__)\n",
      "/Users/ilya.ivolgin/opt/miniconda3/envs/geek/lib/python3.9/site-packages/pymorphy2/units/base.py:70: DeprecationWarning: inspect.getargspec() is deprecated since Python 3.0, use inspect.signature() or inspect.getfullargspec()\n",
      "  args, varargs, kw, default = inspect.getargspec(cls.__init__)\n"
     ]
    }
   ],
   "source": [
    "words_regex = re.compile('\\w+')\n",
    "\n",
    "def find_words(text, regex = words_regex):\n",
    "    tokens = regex.findall(text) \n",
    "    return [w for w in tokens if w.isalpha() and len(w)>= 4] \n",
    "\n",
    "morph = pymorphy2.MorphAnalyzer() \n",
    "stopwords_list = stopwords.words('russian') \n",
    "\n",
    "def lemmatize(words, lemmer = morph, stopwords = stopwords_list):\n",
    "    lemmas = [lemmer.parse(w)[0].normal_form for w in words] \n",
    "    return [w for w in lemmas if not w in stopwords and w.isalpha()] \n",
    "\n",
    "def clear_tokens(tokens):\n",
    "    string_tokens = ' '.join(tokens)\n",
    "    string_tokens = re.sub(r'[A-za-z]', ' ',  string_tokens) \n",
    "    string_tokens = re.sub(r'\\w+ще\\b', ' ',  string_tokens) \n",
    "    string_tokens = re.sub(r'\\bбл\\w+', ' ',  string_tokens) \n",
    "    string_tokens = re.sub(r'значит', ' ',  string_tokens) \n",
    "    string_tokens = re.sub(r'почему', ' ',  string_tokens) \n",
    "    string_tokens = re.sub(r'свой', ' ',  string_tokens) \n",
    "    string_tokens = re.sub(r'капец', ' ',  string_tokens) \n",
    "    string_tokens = re.sub(r'который', ' ',  string_tokens)\n",
    "    string_tokens = re.sub(r'это', ' ',  string_tokens)\n",
    "    string_tokens = re.sub(r'весь', ' ',  string_tokens)\n",
    "    string_tokens = re.sub(r'\\bидио\\w+', ' ',  string_tokens) \n",
    "    string_tokens = re.sub(r'\\bпид\\w+', ' ',  string_tokens)\n",
    "    string_tokens = re.sub(r'\\bхуй\\w+', ' ', string_tokens)\n",
    "    string_tokens = re.sub(r'\\w+xу.\\b', ' ',  string_tokens)\n",
    "    string_tokens = re.sub(r'\\w+xу\\w+', ' ',  string_tokens)\n",
    "    string_tokens = re.sub(r'\\w+но\\b', ' ',  string_tokens)\n",
    "    string_tokens = re.sub(r'\\bпоп\\w+', ' ',  string_tokens)\n",
    "    string_tokens = re.sub(r'\\bпиз\\w+', ' ',  string_tokens)\n",
    "    string_tokens = re.sub(r'\\bгов\\w+', ' ',  string_tokens)\n",
    "    string_tokens = re.sub(r'\\bфиг\\w+', ' ',  string_tokens)\n",
    "    string_tokens = re.sub(r'сука', ' ',  string_tokens)\n",
    "    string_tokens = re.sub(r'очень', ' ',  string_tokens)\n",
    "    string_tokens = re.sub(r'лох', ' ',  string_tokens)\n",
    "    string_tokens = re.sub(r'\\bпи.де\\w+', ' ',  string_tokens)\n",
    "    string_tokens = re.sub(r'нету', ' ',  string_tokens)\n",
    "    string_tokens = re.sub(r'ой', ' ',  string_tokens)\n",
    "    string_tokens = re.sub(r'\\bхот\\w+', ' ',  string_tokens)\n",
    "    string_tokens = re.sub(r'\\bпрост\\w+', ' ',  string_tokens)\n",
    "    string_tokens = re.sub(r'\\bника\\w+', ' ',  string_tokens)\n",
    "    string_tokens = re.sub(r'\\w+ть\\b', ' ',  string_tokens)\n",
    "    string_tokens = re.sub(r'мочь', ' ',  string_tokens)\n",
    "    clear_tokens = string_tokens.split()\n",
    "    clear_tokens = [w for w in clear_tokens if len(w)>2]\n",
    "    return clear_tokens\n",
    "\n",
    "def preprocess(text):\n",
    "    return (clear_tokens(lemmatize(find_words(text))))"
   ]
  },
  {
   "cell_type": "code",
   "execution_count": 10,
   "id": "04fb7078",
   "metadata": {},
   "outputs": [
    {
     "data": {
      "text/html": [
       "<div>\n",
       "<style scoped>\n",
       "    .dataframe tbody tr th:only-of-type {\n",
       "        vertical-align: middle;\n",
       "    }\n",
       "\n",
       "    .dataframe tbody tr th {\n",
       "        vertical-align: top;\n",
       "    }\n",
       "\n",
       "    .dataframe thead th {\n",
       "        text-align: right;\n",
       "    }\n",
       "</style>\n",
       "<table border=\"1\" class=\"dataframe\">\n",
       "  <thead>\n",
       "    <tr style=\"text-align: right;\">\n",
       "      <th></th>\n",
       "      <th>text</th>\n",
       "      <th>label</th>\n",
       "    </tr>\n",
       "  </thead>\n",
       "  <tbody>\n",
       "    <tr>\n",
       "      <th>0</th>\n",
       "      <td>[школотый, поверь, самый, общество, предмет, тип]</td>\n",
       "      <td>positive</td>\n",
       "    </tr>\n",
       "    <tr>\n",
       "      <th>1</th>\n",
       "      <td>[таки, немного, похожий, мальчик, хороший]</td>\n",
       "      <td>positive</td>\n",
       "    </tr>\n",
       "    <tr>\n",
       "      <th>2</th>\n",
       "      <td>[испугаться]</td>\n",
       "      <td>positive</td>\n",
       "    </tr>\n",
       "    <tr>\n",
       "      <th>3</th>\n",
       "      <td>[угол, голод, порция]</td>\n",
       "      <td>positive</td>\n",
       "    </tr>\n",
       "    <tr>\n",
       "      <th>4</th>\n",
       "      <td>[страшилка, создаться, ощущение, автор]</td>\n",
       "      <td>positive</td>\n",
       "    </tr>\n",
       "  </tbody>\n",
       "</table>\n",
       "</div>"
      ],
      "text/plain": [
       "                                                text     label\n",
       "0  [школотый, поверь, самый, общество, предмет, тип]  positive\n",
       "1         [таки, немного, похожий, мальчик, хороший]  positive\n",
       "2                                       [испугаться]  positive\n",
       "3                              [угол, голод, порция]  positive\n",
       "4            [страшилка, создаться, ощущение, автор]  positive"
      ]
     },
     "execution_count": 10,
     "metadata": {},
     "output_type": "execute_result"
    }
   ],
   "source": [
    "df['text'] = df['text'].apply(preprocess)\n",
    "df.head()"
   ]
  },
  {
   "cell_type": "markdown",
   "id": "f82d07a9",
   "metadata": {},
   "source": [
    "---"
   ]
  },
  {
   "cell_type": "code",
   "execution_count": 11,
   "id": "195bf713",
   "metadata": {},
   "outputs": [
    {
     "data": {
      "text/plain": [
       "8172"
      ]
     },
     "execution_count": 11,
     "metadata": {},
     "output_type": "execute_result"
    }
   ],
   "source": [
    "dictionary = corpora.Dictionary(df['text']) \n",
    "dictionary.filter_extremes(no_below = 10, no_above = 0.9, keep_n = None) \n",
    "dictionary.save('tweet.dict')\n",
    "\n",
    "len(dictionary.keys())"
   ]
  },
  {
   "cell_type": "code",
   "execution_count": 12,
   "id": "f24d93b7",
   "metadata": {},
   "outputs": [],
   "source": [
    "corpus = [dictionary.doc2bow(text) for text in df['text']] \n",
    "corpora.MmCorpus.serialize('tweet.model', corpus)"
   ]
  },
  {
   "cell_type": "code",
   "execution_count": 13,
   "id": "aeaa61ed",
   "metadata": {},
   "outputs": [
    {
     "name": "stdout",
     "output_type": "stream",
     "text": [
      "['школотый', 'поверь', 'самый', 'общество', 'предмет', 'тип']\n",
      "[(0, 1.0), (1, 1.0), (2, 1.0), (3, 1.0), (4, 1.0), (5, 1.0)]\n"
     ]
    }
   ],
   "source": [
    "mm = corpora.MmCorpus('tweet.model')\n",
    "print(df['text'].values[0])\n",
    "print(mm[0])"
   ]
  },
  {
   "cell_type": "code",
   "execution_count": 14,
   "id": "019d8080",
   "metadata": {},
   "outputs": [
    {
     "data": {
      "text/plain": [
       "[(0,\n",
       "  '0.015*\"самый\" + 0.010*\"человек\" + 0.009*\"скоро\" + 0.009*\"найти\" + 0.009*\"экзамен\" + 0.008*\"дело\" + 0.008*\"казаться\" + 0.008*\"хороший\" + 0.008*\"прийтись\" + 0.008*\"нравиться\" + 0.008*\"наш\" + 0.007*\"правда\" + 0.006*\"ранний\" + 0.006*\"нужный\" + 0.006*\"парень\" + 0.006*\"чувство\" + 0.006*\"город\" + 0.006*\"конец\" + 0.005*\"момент\" + 0.005*\"долго\"'),\n",
       " (1,\n",
       "  '0.026*\"завтра\" + 0.024*\"день\" + 0.018*\"дом\" + 0.017*\"школа\" + 0.015*\"сегодня\" + 0.013*\"жизнь\" + 0.011*\"жаль\" + 0.010*\"час\" + 0.010*\"новый\" + 0.010*\"время\" + 0.009*\"друг\" + 0.009*\"последний\" + 0.009*\"год\" + 0.009*\"урок\" + 0.009*\"идти\" + 0.008*\"ночь\" + 0.008*\"первый\" + 0.008*\"мама\" + 0.008*\"неделя\" + 0.007*\"работа\"'),\n",
       " (2,\n",
       "  '0.022*\"сегодня\" + 0.022*\"больш\" + 0.018*\"человек\" + 0.015*\"утро\" + 0.013*\"настроение\" + 0.009*\"хороший\" + 0.009*\"день\" + 0.009*\"улица\" + 0.008*\"снег\" + 0.007*\"боль\" + 0.007*\"твиттер\" + 0.007*\"спасибо\" + 0.007*\"минута\" + 0.007*\"слово\" + 0.007*\"вечер\" + 0.007*\"ужасный\" + 0.007*\"закончиться\" + 0.006*\"деньга\" + 0.006*\"бог\" + 0.006*\"должный\"')]"
      ]
     },
     "execution_count": 14,
     "metadata": {},
     "output_type": "execute_result"
    }
   ],
   "source": [
    "lda = ldamodel.LdaModel(corpus, id2word = dictionary, num_topics = 3)\n",
    "lda.show_topics(num_topics = 3, num_words = 20, formatted = True)"
   ]
  },
  {
   "cell_type": "code",
   "execution_count": 15,
   "id": "fc445a72",
   "metadata": {},
   "outputs": [
    {
     "name": "stderr",
     "output_type": "stream",
     "text": [
      "/Users/ilya.ivolgin/opt/miniconda3/envs/geek/lib/python3.9/site-packages/pyLDAvis/_prepare.py:246: FutureWarning: In a future version of pandas all arguments of DataFrame.drop except for the argument 'labels' will be keyword-only.\n",
      "  default_term_info = default_term_info.sort_values(\n",
      "/Users/ilya.ivolgin/opt/miniconda3/envs/geek/lib/python3.9/site-packages/past/builtins/misc.py:45: DeprecationWarning: the imp module is deprecated in favour of importlib; see the module's documentation for alternative uses\n",
      "  from imp import reload\n",
      "/Users/ilya.ivolgin/opt/miniconda3/envs/geek/lib/python3.9/site-packages/past/builtins/misc.py:45: DeprecationWarning: the imp module is deprecated in favour of importlib; see the module's documentation for alternative uses\n",
      "  from imp import reload\n",
      "/Users/ilya.ivolgin/opt/miniconda3/envs/geek/lib/python3.9/site-packages/past/builtins/misc.py:45: DeprecationWarning: the imp module is deprecated in favour of importlib; see the module's documentation for alternative uses\n",
      "  from imp import reload\n",
      "/Users/ilya.ivolgin/opt/miniconda3/envs/geek/lib/python3.9/site-packages/past/builtins/misc.py:45: DeprecationWarning: the imp module is deprecated in favour of importlib; see the module's documentation for alternative uses\n",
      "  from imp import reload\n",
      "/Users/ilya.ivolgin/opt/miniconda3/envs/geek/lib/python3.9/site-packages/past/builtins/misc.py:45: DeprecationWarning: the imp module is deprecated in favour of importlib; see the module's documentation for alternative uses\n",
      "  from imp import reload\n",
      "/Users/ilya.ivolgin/opt/miniconda3/envs/geek/lib/python3.9/site-packages/past/builtins/misc.py:45: DeprecationWarning: the imp module is deprecated in favour of importlib; see the module's documentation for alternative uses\n",
      "  from imp import reload\n",
      "/Users/ilya.ivolgin/opt/miniconda3/envs/geek/lib/python3.9/site-packages/past/builtins/misc.py:45: DeprecationWarning: the imp module is deprecated in favour of importlib; see the module's documentation for alternative uses\n",
      "  from imp import reload\n",
      "/Users/ilya.ivolgin/opt/miniconda3/envs/geek/lib/python3.9/site-packages/past/builtins/misc.py:45: DeprecationWarning: the imp module is deprecated in favour of importlib; see the module's documentation for alternative uses\n",
      "  from imp import reload\n"
     ]
    },
    {
     "data": {
      "text/html": [
       "\n",
       "<link rel=\"stylesheet\" type=\"text/css\" href=\"https://cdn.jsdelivr.net/gh/bmabey/pyLDAvis@3.3.1/pyLDAvis/js/ldavis.v1.0.0.css\">\n",
       "\n",
       "\n",
       "<div id=\"ldavis_el961851402698262936481300600293\"></div>\n",
       "<script type=\"text/javascript\">\n",
       "\n",
       "var ldavis_el961851402698262936481300600293_data = {\"mdsDat\": {\"x\": [0.0894638567828297, -0.33759765305558576, 0.248133796272756], \"y\": [-0.32443365108858463, 0.08788646716127585, 0.2365471839273086], \"topics\": [1, 2, 3], \"cluster\": [1, 1, 1], \"Freq\": [37.077395561563534, 31.895204685406036, 31.027399753030426]}, \"tinfo\": {\"Term\": [\"\\u0437\\u0430\\u0432\\u0442\\u0440\\u0430\", \"\\u0431\\u043e\\u043b\\u044c\\u0448\", \"\\u0448\\u043a\\u043e\\u043b\\u0430\", \"\\u0443\\u0442\\u0440\\u043e\", \"\\u0441\\u0430\\u043c\\u044b\\u0439\", \"\\u0434\\u0435\\u043d\\u044c\", \"\\u0436\\u0438\\u0437\\u043d\\u044c\", \"\\u043d\\u0430\\u0441\\u0442\\u0440\\u043e\\u0435\\u043d\\u0438\\u0435\", \"\\u0434\\u043e\\u043c\", \"\\u0447\\u0435\\u043b\\u043e\\u0432\\u0435\\u043a\", \"\\u0436\\u0430\\u043b\\u044c\", \"\\u0441\\u0435\\u0433\\u043e\\u0434\\u043d\\u044f\", \"\\u0447\\u0430\\u0441\", \"\\u0441\\u043a\\u043e\\u0440\\u043e\", \"\\u043f\\u043e\\u0441\\u043b\\u0435\\u0434\\u043d\\u0438\\u0439\", \"\\u043d\\u0430\\u0439\\u0442\\u0438\", \"\\u044d\\u043a\\u0437\\u0430\\u043c\\u0435\\u043d\", \"\\u0443\\u0440\\u043e\\u043a\", \"\\u0443\\u043b\\u0438\\u0446\\u0430\", \"\\u0433\\u043e\\u0434\", \"\\u043d\\u043e\\u0447\\u044c\", \"\\u0434\\u0435\\u043b\\u043e\", \"\\u043f\\u0440\\u0438\\u0439\\u0442\\u0438\\u0441\\u044c\", \"\\u043d\\u0440\\u0430\\u0432\\u0438\\u0442\\u044c\\u0441\\u044f\", \"\\u043a\\u0430\\u0437\\u0430\\u0442\\u044c\\u0441\\u044f\", \"\\u043d\\u0435\\u0434\\u0435\\u043b\\u044f\", \"\\u0441\\u043d\\u0435\\u0433\", \"\\u0434\\u0440\\u0443\\u0433\", \"\\u0431\\u043e\\u043b\\u044c\", \"\\u043a\\u0430\\u0436\\u0434\\u044b\\u0439\", \"\\u0437\\u0430\\u0432\\u0442\\u0440\\u0430\", \"\\u0448\\u043a\\u043e\\u043b\\u0430\", \"\\u0436\\u0430\\u043b\\u044c\", \"\\u0447\\u0430\\u0441\", \"\\u043f\\u043e\\u0441\\u043b\\u0435\\u0434\\u043d\\u0438\\u0439\", \"\\u043d\\u043e\\u0447\\u044c\", \"\\u043d\\u0435\\u0434\\u0435\\u043b\\u044f\", \"\\u043a\\u0430\\u043d\\u0438\\u043a\\u0443\\u043b\\u044b\", \"\\u0432\\u0442\\u043e\\u0440\", \"\\u0442\\u0435\\u043b\\u0435\\u0444\\u043e\\u043d\", \"\\u0431\\u043e\\u044f\\u0442\\u044c\\u0441\\u044f\", \"\\u0432\\u0440\\u043e\\u0434\\u0435\", \"\\u0444\\u043e\\u0442\\u043a\\u0430\", \"\\u0444\\u0438\\u043b\\u044c\\u043c\", \"\\u0443\\u0447\\u0451\\u0431\\u0430\", \"\\u043c\\u0435\\u0441\\u044f\\u0446\", \"\\u043f\\u0430\\u0440\\u0430\", \"\\u0443\\u0439\\u0442\\u0438\", \"\\u043d\\u043e\\u0433\\u0430\", \"\\u0442\\u0432\\u0438\\u0442\", \"\\u043d\\u0430\\u0434\\u0435\\u044f\\u0442\\u044c\\u0441\\u044f\", \"\\u0436\\u0438\\u0437\\u043d\\u044c\", \"\\u0441\\u0435\\u0440\\u0438\\u044f\", \"\\u0443\\u0436\\u0430\\u0441\", \"\\u0438\\u0441\\u0442\\u043e\\u0440\\u0438\\u044f\", \"\\u0432\\u044b\\u0441\\u043f\\u0430\\u0442\\u044c\\u0441\\u044f\", \"\\u043f\\u0435\\u0447\\u0430\\u043b\\u044c\", \"\\u0441\\u0435\\u0437\\u043e\\u043d\", \"\\u043f\\u043e\\u043d\\u0435\\u0434\\u0435\\u043b\\u044c\\u043d\\u0438\\u043a\", \"\\u0437\\u0430\\u0439\\u0442\\u0438\", \"\\u0443\\u0440\\u043e\\u043a\", \"\\u043a\\u0430\\u0436\\u0434\\u044b\\u0439\", \"\\u0432\\u0447\\u0435\\u0440\\u0430\", \"\\u0436\\u0430\\u043b\\u043a\\u043e\", \"\\u043b\\u0435\\u043d\\u0442\\u0430\", \"\\u0433\\u043e\\u0434\", \"\\u043f\\u0440\\u0438\\u0439\\u0442\\u0438\", \"\\u0441\\u0442\\u043e\\u043b\\u044c\\u043a\\u043e\", \"\\u0434\\u043e\\u043c\", \"\\u0434\\u0440\\u0443\\u0433\", \"\\u043e\\u0441\\u0442\\u0430\\u0442\\u044c\\u0441\\u044f\", \"\\u043f\\u0435\\u0440\\u0432\\u044b\\u0439\", \"\\u0434\\u0435\\u043d\\u044c\", \"\\u0440\\u0430\\u0431\\u043e\\u0442\\u0430\", \"\\u0438\\u0434\\u0442\\u0438\", \"\\u043c\\u0430\\u043c\\u0430\", \"\\u043d\\u043e\\u0432\\u044b\\u0439\", \"\\u0432\\u0440\\u0435\\u043c\\u044f\", \"\\u0441\\u0435\\u0433\\u043e\\u0434\\u043d\\u044f\", \"\\u043d\\u0438\\u043a\\u0442\\u043e\", \"\\u0441\\u043a\\u043e\\u0440\\u043e\", \"\\u043d\\u0440\\u0430\\u0432\\u0438\\u0442\\u044c\\u0441\\u044f\", \"\\u043f\\u0440\\u0438\\u0439\\u0442\\u0438\\u0441\\u044c\", \"\\u044d\\u043a\\u0437\\u0430\\u043c\\u0435\\u043d\", \"\\u0447\\u0443\\u0432\\u0441\\u0442\\u0432\\u043e\", \"\\u0440\\u0430\\u043d\\u043d\\u0438\\u0439\", \"\\u043a\\u043e\\u043d\\u0435\\u0446\", \"\\u043d\\u0430\\u0432\\u0435\\u0440\\u043d\\u043e\\u0435\", \"\\u0441\\u0430\\u043c\\u044b\\u0439\", \"\\u0441\\u043b\\u0438\\u0448\\u043a\\u043e\\u043c\", \"\\u043c\\u043e\\u043c\\u0435\\u043d\\u0442\", \"\\u043f\\u043e\\u043b\\u0443\\u0447\\u0438\\u0442\\u044c\\u0441\\u044f\", \"\\u043f\\u043e\\u043b\\u0443\\u0447\\u0430\\u0442\\u044c\\u0441\\u044f\", \"\\u0432\\u043e\\u043f\\u0440\\u043e\\u0441\", \"\\u043f\\u0440\\u0430\\u0432\\u0434\\u0430\", \"\\u0434\\u0435\\u0432\\u0443\\u0448\\u043a\\u0430\", \"\\u0441\\u043b\\u0435\\u0437\\u0430\", \"\\u0441\\u0435\\u0440\\u0434\\u0446\\u0435\", \"\\u0441\\u0435\\u0441\\u0441\\u0438\\u044f\", \"\\u0442\\u0430\\u043a\\u0438\", \"\\u043a\\u0440\\u0430\\u0441\\u0438\\u0432\\u044b\\u0439\", \"\\u043f\\u043e\\u0434\\u0440\\u0443\\u0433\\u0430\", \"\\u044f\\u043d\\u0432\\u0430\\u0440\\u044c\", \"\\u043d\\u0430\\u0439\\u0442\\u0438\", \"\\u0441\\u043a\\u043e\\u0440\\u0435\\u0435\", \"\\u043b\\u0438\\u0431\\u043e\", \"\\u0451\\u043b\\u043a\\u0430\", \"\\u0434\\u043e\\u0440\\u043e\\u0433\\u0430\", \"\\u043f\\u0440\\u0438\\u0432\\u0435\\u0442\", \"\\u043b\\u0438\\u0446\\u043e\", \"\\u043a\\u0430\\u0437\\u0430\\u0442\\u044c\\u0441\\u044f\", \"\\u043f\\u0430\\u0440\\u0435\\u043d\\u044c\", \"\\u0434\\u043e\\u043b\\u0433\\u043e\", \"\\u0443\\u0447\\u0438\\u0442\\u044c\\u0441\\u044f\", \"\\u0434\\u0435\\u043b\\u043e\", \"\\u0433\\u043e\\u0440\\u043e\\u0434\", \"\\u043d\\u0443\\u0436\\u043d\\u044b\\u0439\", \"\\u043d\\u0430\\u0448\", \"\\u0447\\u0435\\u043b\\u043e\\u0432\\u0435\\u043a\", \"\\u0445\\u043e\\u0440\\u043e\\u0448\\u0438\\u0439\", \"\\u043c\\u0430\\u043b\\u0435\\u043d\\u044c\\u043a\\u0438\\u0439\", \"\\u0432\\u0440\\u0435\\u043c\\u044f\", \"\\u0443\\u0442\\u0440\\u043e\", \"\\u043d\\u0430\\u0441\\u0442\\u0440\\u043e\\u0435\\u043d\\u0438\\u0435\", \"\\u0441\\u043f\\u0430\\u0441\\u0438\\u0431\\u043e\", \"\\u0431\\u043e\\u043b\\u044c\", \"\\u0442\\u0432\\u0438\\u0442\\u0442\\u0435\\u0440\", \"\\u0443\\u0436\\u0430\\u0441\\u043d\\u044b\\u0439\", \"\\u0434\\u043e\\u043b\\u0436\\u043d\\u044b\\u0439\", \"\\u043f\\u043e\\u0433\\u043e\\u0434\\u0430\", \"\\u0441\\u0440\\u0430\\u0437\\u0443\", \"\\u0431\\u043e\\u0433\", \"\\u0438\\u043d\\u0442\\u0435\\u0440\\u043d\\u0435\\u0442\", \"\\u043b\\u0435\\u043d\\u044c\", \"\\u0442\\u0435\\u043c\\u043f\\u0435\\u0440\\u0430\\u0442\\u0443\\u0440\\u0430\", \"\\u0434\\u043e\\u0431\\u0440\\u044b\\u0439\", \"\\u0437\\u0438\\u043c\\u0430\", \"\\u043f\\u044b\\u0442\\u0430\\u0442\\u044c\\u0441\\u044f\", \"\\u0446\\u0435\\u043b\\u044b\\u0439\", \"\\u0447\\u0435\\u0440\\u0442\\u0430\", \"\\u0441\\u043e\\u0441\\u043a\\u0443\\u0447\\u0438\\u0442\\u044c\\u0441\\u044f\", \"\\u0431\\u043e\\u043b\\u044c\\u043d\\u0438\\u0446\\u0430\", \"\\u043a\\u0430\\u0442\\u043e\\u043a\", \"\\u0441\\u043b\\u043e\\u0432\\u043e\", \"\\u0442\\u0443\\u043f\", \"\\u0431\\u0440\\u0430\\u0442\", \"\\u043f\\u0440\\u044f\\u043c\", \"\\u043a\\u0441\\u0442\\u0430\\u0442\\u0438\", \"\\u043c\\u0438\\u043d\\u0443\\u0442\\u0430\", \"\\u0436\\u043e\\u043f\\u0430\", \"\\u0431\\u0435\\u0434\\u043d\\u044b\\u0439\", \"\\u043d\\u043e\\u0447\\u044c\\u044e\", \"\\u0431\\u043e\\u043b\\u044c\\u0448\", \"\\u0443\\u043b\\u0438\\u0446\\u0430\", \"\\u0432\\u0435\\u0447\\u0435\\u0440\", \"\\u043d\\u0435\\u043c\\u043d\\u043e\\u0433\\u043e\", \"\\u0441\\u043d\\u0435\\u0433\", \"\\u0434\\u0435\\u043d\\u044c\\u0433\\u0430\", \"\\u043a\\u0440\\u0443\\u0442\\u043e\", \"\\u0432\\u044b\\u0439\\u0442\\u0438\", \"\\u0437\\u0430\\u043a\\u043e\\u043d\\u0447\\u0438\\u0442\\u044c\\u0441\\u044f\", \"\\u0447\\u0435\\u043b\\u043e\\u0432\\u0435\\u043a\", \"\\u0441\\u0435\\u0433\\u043e\\u0434\\u043d\\u044f\", \"\\u043f\\u0435\\u0441\\u043d\\u044f\", \"\\u0445\\u043e\\u0440\\u043e\\u0448\\u0438\\u0439\", \"\\u0434\\u0435\\u043d\\u044c\", \"\\u0433\\u043e\\u043b\\u043e\\u0432\\u0430\"], \"Freq\": [7167.0, 4924.0, 4709.0, 3470.0, 3483.0, 8586.0, 3646.0, 2967.0, 5472.0, 6687.0, 2910.0, 9346.0, 2644.0, 2231.0, 2546.0, 2179.0, 2147.0, 2358.0, 1962.0, 2416.0, 2244.0, 1913.0, 1845.0, 1842.0, 1879.0, 2118.0, 1825.0, 2754.0, 1691.0, 2006.0, 7165.93950447609, 4708.7915266594655, 2909.6240457829485, 2643.9148056800677, 2545.240352855857, 2244.095936444913, 2118.0082378222205, 1789.436071249938, 1746.0056829954506, 1765.0847727891812, 1551.7987531429712, 1502.273351707493, 1331.6768527288189, 1670.0804326926373, 1283.2428409826537, 1209.0366121408229, 1198.6260420850583, 1218.4027408396776, 1147.4522325340824, 1172.6510183719101, 1259.4798598363504, 3643.6193638280706, 924.9413744956138, 1103.6367152763833, 918.7081881737283, 824.3620789652307, 865.8906780636204, 807.6402662137882, 868.6855670010345, 802.4685702367312, 2356.3009241140385, 2000.414752120712, 1795.1392121713016, 1635.5818056388332, 1087.5179150491304, 2389.582329769188, 2016.9095207009514, 1173.3469733265083, 4971.033460652163, 2571.3845941356626, 1840.594740281792, 2234.9487727326878, 6560.152321118256, 2035.3627599605563, 2353.051437909206, 2184.412518991125, 2602.92216823547, 2600.2864455957165, 4043.67411980652, 1660.368107754027, 2230.5260300395144, 1842.0207018963451, 1844.4007698762828, 2146.145582609517, 1441.0184298546542, 1521.8868924901951, 1367.0360316459391, 1204.4972863610146, 3481.618953352926, 1106.7159595295848, 1283.374551683992, 1208.7242984760321, 1028.3988518411754, 1014.242558607427, 1642.3813089657249, 974.9781132994779, 1080.3342642283742, 915.5707584436706, 926.112404151188, 1162.9047611302633, 867.9081623860394, 845.0389991219914, 838.6258071180167, 2177.4995251437163, 724.3094324553969, 708.0171414888947, 703.698575669048, 747.1528205879597, 717.6874126345491, 752.3802470950778, 1871.7171557205204, 1463.6937597519925, 1227.7143865379762, 1098.9417201898004, 1898.8365341903495, 1397.6598429608719, 1477.763041395377, 1797.4473456422515, 2414.3223088172836, 1848.7467525557347, 998.1578915238432, 1036.8882279500626, 3469.4824667213984, 2966.420500597306, 1589.3093324064869, 1691.1760991207286, 1589.9692375864693, 1548.2581835020676, 1268.9122716332245, 1201.8795122979552, 1144.9096148980984, 1342.5068180356639, 1065.3560118615123, 1022.7047153369001, 1017.2126390382493, 1128.8557551291212, 1107.2233648817344, 1024.186467577916, 987.0308673545551, 947.1049004349785, 911.1592328455836, 923.7535413055625, 876.3078707482603, 1554.386634963796, 790.5686415029871, 794.8302895647118, 1154.6975695771837, 768.2192777993239, 1564.4224533503675, 751.8117224821211, 724.8303525094777, 708.4627769268803, 4918.1487357317965, 1960.104708211281, 1550.2858108411426, 893.1102192902734, 1804.0082795952799, 1440.3756112893793, 959.3629745357472, 1256.1280195073712, 1492.8720372400358, 4202.480183922141, 4984.1971737716585, 1063.271422716808, 2028.0691923335826, 2026.0573226528873, 1116.6891393293536], \"Total\": [7167.0, 4924.0, 4709.0, 3470.0, 3483.0, 8586.0, 3646.0, 2967.0, 5472.0, 6687.0, 2910.0, 9346.0, 2644.0, 2231.0, 2546.0, 2179.0, 2147.0, 2358.0, 1962.0, 2416.0, 2244.0, 1913.0, 1845.0, 1842.0, 1879.0, 2118.0, 1825.0, 2754.0, 1691.0, 2006.0, 7167.453041353358, 4709.8008639988675, 2910.527258706237, 2644.7470597773504, 2546.0585512571984, 2244.923878627636, 2118.8370623074184, 1790.2384253121725, 1746.8609326598644, 1765.992216118751, 1552.6614307268812, 1503.1608568593654, 1332.5025640406177, 1671.1337574371041, 1284.0733137209309, 1209.8670197980584, 1199.4518709970057, 1219.2601423849023, 1148.274947061655, 1173.5062749918009, 1260.413575987171, 3646.3477942246823, 925.7435594045993, 1104.617849357197, 919.5484979767493, 825.1640891821022, 866.7337236182542, 808.4428701833103, 869.5612209554221, 803.2973526361593, 2358.7722105022062, 2006.2739138819802, 1799.6452259960454, 1638.7048255138093, 1090.515134684838, 2416.9473588581504, 2048.8976470256744, 1179.6411164847261, 5472.557494063746, 2754.927637303151, 1916.4061448734944, 2390.7572016363515, 8586.669171701968, 2432.988493035054, 3168.991440033802, 2879.6406836012447, 3787.191565523896, 4088.7565826847062, 9346.307802367393, 3225.5913057630714, 2231.3530810995917, 1842.7909552391227, 1845.2216676901407, 2147.141062303488, 1441.7887793223335, 1522.7503437448754, 1367.8408005289984, 1205.2734467985365, 3483.9877173146674, 1107.4880822339644, 1284.2840561673927, 1209.6041900301261, 1029.1590268441703, 1015.0367438691419, 1643.6824038052555, 975.7540381369882, 1081.217570160993, 916.3284777543167, 926.891771832692, 1163.8899566637508, 868.6738043806816, 845.812285272313, 839.4210430361472, 2179.5649786930276, 725.0738320041819, 708.7667656318937, 704.4522011124322, 747.9645487523668, 718.4760400821681, 753.2108869748863, 1879.4542788661106, 1466.9328783166302, 1229.4613077598137, 1100.3518108817664, 1913.012247595522, 1404.5986582173991, 1529.1178477401213, 2052.297870767962, 6687.8018498942665, 4909.844912856026, 1548.8823907345795, 4088.7565826847062, 3470.246397498457, 2967.147801471815, 1590.0561378636817, 1691.9847043948282, 1590.7653247236326, 1549.0358326999453, 1269.6951662078154, 1202.6236064331633, 1145.690595409996, 1343.4431012505024, 1066.1252378359507, 1023.4521000590737, 1017.9640799451821, 1129.708392620778, 1108.0736810214373, 1024.976744684831, 987.8101202070811, 947.8731191199155, 911.9149726056645, 924.5429819011163, 877.0767203737894, 1555.7983043870013, 791.3369039885927, 795.6064435940297, 1155.8300699237573, 769.0008846338155, 1566.0193390842571, 752.5869454301558, 725.5822820310348, 709.2340675103444, 4924.877752790483, 1962.4234621562528, 1554.4645741859545, 894.31476192239, 1825.044186512125, 1451.769373643087, 965.7020225518098, 1306.4025776414778, 1713.47118322221, 6687.8018498942665, 9346.307802367393, 1127.1164093261855, 4909.844912856026, 8586.669171701968, 2459.181337867464], \"Category\": [\"Default\", \"Default\", \"Default\", \"Default\", \"Default\", \"Default\", \"Default\", \"Default\", \"Default\", \"Default\", \"Default\", \"Default\", \"Default\", \"Default\", \"Default\", \"Default\", \"Default\", \"Default\", \"Default\", \"Default\", \"Default\", \"Default\", \"Default\", \"Default\", \"Default\", \"Default\", \"Default\", \"Default\", \"Default\", \"Default\", \"Topic1\", \"Topic1\", \"Topic1\", \"Topic1\", \"Topic1\", \"Topic1\", \"Topic1\", \"Topic1\", \"Topic1\", \"Topic1\", \"Topic1\", \"Topic1\", \"Topic1\", \"Topic1\", \"Topic1\", \"Topic1\", \"Topic1\", \"Topic1\", \"Topic1\", \"Topic1\", \"Topic1\", \"Topic1\", \"Topic1\", \"Topic1\", \"Topic1\", \"Topic1\", \"Topic1\", \"Topic1\", \"Topic1\", \"Topic1\", \"Topic1\", \"Topic1\", \"Topic1\", \"Topic1\", \"Topic1\", \"Topic1\", \"Topic1\", \"Topic1\", \"Topic1\", \"Topic1\", \"Topic1\", \"Topic1\", \"Topic1\", \"Topic1\", \"Topic1\", \"Topic1\", \"Topic1\", \"Topic1\", \"Topic1\", \"Topic1\", \"Topic2\", \"Topic2\", \"Topic2\", \"Topic2\", \"Topic2\", \"Topic2\", \"Topic2\", \"Topic2\", \"Topic2\", \"Topic2\", \"Topic2\", \"Topic2\", \"Topic2\", \"Topic2\", \"Topic2\", \"Topic2\", \"Topic2\", \"Topic2\", \"Topic2\", \"Topic2\", \"Topic2\", \"Topic2\", \"Topic2\", \"Topic2\", \"Topic2\", \"Topic2\", \"Topic2\", \"Topic2\", \"Topic2\", \"Topic2\", \"Topic2\", \"Topic2\", \"Topic2\", \"Topic2\", \"Topic2\", \"Topic2\", \"Topic2\", \"Topic2\", \"Topic2\", \"Topic2\", \"Topic2\", \"Topic2\", \"Topic3\", \"Topic3\", \"Topic3\", \"Topic3\", \"Topic3\", \"Topic3\", \"Topic3\", \"Topic3\", \"Topic3\", \"Topic3\", \"Topic3\", \"Topic3\", \"Topic3\", \"Topic3\", \"Topic3\", \"Topic3\", \"Topic3\", \"Topic3\", \"Topic3\", \"Topic3\", \"Topic3\", \"Topic3\", \"Topic3\", \"Topic3\", \"Topic3\", \"Topic3\", \"Topic3\", \"Topic3\", \"Topic3\", \"Topic3\", \"Topic3\", \"Topic3\", \"Topic3\", \"Topic3\", \"Topic3\", \"Topic3\", \"Topic3\", \"Topic3\", \"Topic3\", \"Topic3\", \"Topic3\", \"Topic3\", \"Topic3\", \"Topic3\", \"Topic3\"], \"logprob\": [30.0, 29.0, 28.0, 27.0, 26.0, 25.0, 24.0, 23.0, 22.0, 21.0, 20.0, 19.0, 18.0, 17.0, 16.0, 15.0, 14.0, 13.0, 12.0, 11.0, 10.0, 9.0, 8.0, 7.0, 6.0, 5.0, 4.0, 3.0, 2.0, 1.0, -3.641, -4.0609, -4.5423, -4.638, -4.6761, -4.802, -4.8598, -5.0284, -5.053, -5.0421, -5.1709, -5.2033, -5.3239, -5.0974, -5.3609, -5.4205, -5.4291, -5.4128, -5.4728, -5.451, -5.3796, -4.3173, -5.6883, -5.5117, -5.6951, -5.8034, -5.7543, -5.8239, -5.7511, -5.8304, -4.7532, -4.9169, -5.0252, -5.1183, -5.5264, -4.7392, -4.9087, -5.4504, -4.0067, -4.6659, -5.0002, -4.8061, -3.7293, -4.8996, -4.7546, -4.829, -4.6537, -4.6547, -4.2131, -5.1033, -4.6575, -4.8489, -4.8476, -4.6961, -5.0944, -5.0398, -5.1471, -5.2737, -4.2123, -5.3584, -5.2103, -5.2702, -5.4317, -5.4456, -4.9636, -5.4851, -5.3825, -5.548, -5.5365, -5.3088, -5.6014, -5.6281, -5.6357, -4.6816, -5.7823, -5.805, -5.8112, -5.7512, -5.7915, -5.7443, -4.8329, -5.0788, -5.2546, -5.3654, -4.8185, -5.125, -5.0692, -4.8734, -4.5783, -4.8452, -5.4616, -5.4235, -4.1882, -4.3448, -4.9689, -4.9067, -4.9685, -4.995, -5.194, -5.2483, -5.2968, -5.1376, -5.3689, -5.4097, -5.4151, -5.311, -5.3303, -5.4083, -5.4452, -5.4865, -5.5252, -5.5115, -5.5642, -4.9911, -5.6672, -5.6618, -5.2883, -5.6958, -4.9846, -5.7174, -5.754, -5.7768, -3.8392, -4.7592, -4.9937, -5.5452, -4.8422, -5.0673, -5.4737, -5.2041, -5.0315, -3.9965, -3.8259, -5.3708, -4.7251, -4.7261, -5.3218], \"loglift\": [30.0, 29.0, 28.0, 27.0, 26.0, 25.0, 24.0, 23.0, 22.0, 21.0, 20.0, 19.0, 18.0, 17.0, 16.0, 15.0, 14.0, 13.0, 12.0, 11.0, 10.0, 9.0, 8.0, 7.0, 6.0, 5.0, 4.0, 3.0, 2.0, 1.0, 0.992, 0.9919, 0.9919, 0.9918, 0.9918, 0.9918, 0.9918, 0.9917, 0.9917, 0.9916, 0.9916, 0.9916, 0.9915, 0.9915, 0.9915, 0.9915, 0.9915, 0.9915, 0.9914, 0.9914, 0.9914, 0.9914, 0.9913, 0.9913, 0.9912, 0.9912, 0.9912, 0.9912, 0.9912, 0.9911, 0.9911, 0.9892, 0.9897, 0.9903, 0.9894, 0.9808, 0.9764, 0.9868, 0.896, 0.9232, 0.9518, 0.9248, 0.723, 0.8137, 0.6945, 0.7158, 0.6172, 0.5395, 0.1543, 0.3281, 1.1423, 1.1423, 1.1423, 1.1423, 1.1422, 1.1421, 1.1421, 1.1421, 1.142, 1.142, 1.142, 1.142, 1.142, 1.1419, 1.1419, 1.1419, 1.1419, 1.1419, 1.1419, 1.1419, 1.1418, 1.1418, 1.1418, 1.1418, 1.1417, 1.1417, 1.1416, 1.1416, 1.1416, 1.1416, 1.1386, 1.1405, 1.1413, 1.1414, 1.1353, 1.1378, 1.1086, 1.0101, 0.1238, 0.166, 0.7033, -0.2293, 1.1701, 1.1701, 1.1698, 1.1698, 1.1698, 1.1698, 1.1697, 1.1697, 1.1696, 1.1696, 1.1696, 1.1696, 1.1696, 1.1695, 1.1695, 1.1695, 1.1695, 1.1695, 1.1695, 1.1694, 1.1694, 1.1694, 1.1693, 1.1693, 1.1693, 1.1693, 1.1693, 1.1693, 1.1693, 1.1692, 1.1689, 1.1691, 1.1676, 1.169, 1.1587, 1.1624, 1.1637, 1.1311, 1.0325, 0.7057, 0.5416, 1.112, 0.2861, -0.2738, 0.3808]}, \"token.table\": {\"Topic\": [3, 2, 3, 3, 3, 1, 2, 3, 1, 3, 1, 2, 3, 2, 1, 2, 3, 1, 1, 1, 2, 3, 1, 2, 3, 1, 1, 2, 1, 2, 3, 1, 2, 3, 2, 1, 2, 3, 1, 3, 2, 3, 3, 2, 3, 3, 1, 2, 3, 2, 1, 2, 3, 1, 2, 1, 1, 2, 3, 3, 1, 2, 1, 1, 3, 3, 1, 2, 3, 3, 1, 1, 3, 1, 2, 3, 1, 3, 2, 2, 1, 2, 3, 3, 1, 2, 3, 3, 2, 2, 1, 2, 3, 1, 2, 3, 1, 1, 3, 2, 3, 2, 1, 3, 2, 3, 3, 1, 2, 3, 1, 2, 3, 1, 2, 3, 1, 2, 3, 1, 1, 3, 2, 1, 2, 3, 1, 2, 1, 1, 2, 1, 2, 3, 1, 2, 3, 1, 3, 2, 2, 2, 1, 1, 2, 3, 2, 1, 2, 3, 2, 2, 3, 3, 1, 3, 2, 1, 2, 3, 1, 2, 3, 1, 2, 1, 2, 2, 2, 2, 3, 2, 1, 2, 3, 1, 2, 3, 3, 3, 3, 1, 3, 1, 2, 1, 3, 1, 3, 3, 1, 3, 3, 1, 1, 2, 3, 1, 2, 3, 3, 2, 3, 1, 1, 3, 1, 1, 2, 3, 3, 1, 1, 2, 3, 3, 2, 1, 2, 3, 1, 2, 2, 2], \"Freq\": [0.999197496899449, 0.0007443560498164611, 0.9996701749035073, 0.9994180181462217, 0.9994127023710679, 0.00020305072535727213, 0.001218304352143633, 0.9986034673070644, 0.9995740019596084, 0.9992377593232024, 0.001286616648081134, 0.001286616648081134, 0.9971279022628788, 0.9989786144438575, 0.6358901410298242, 0.25362233701843373, 0.11054705528672329, 0.9992277227988821, 0.9995071544369858, 0.9974188101471642, 0.0016669952258726978, 0.0005556650752908993, 0.03827304144658671, 0.0007654608289317343, 0.9614188011382583, 0.9985892633994093, 0.988850663726958, 0.011171116284781533, 0.2732616703177897, 0.27285503092743585, 0.4542161990252546, 0.0007119471417330824, 0.9953021041428491, 0.004271682850398494, 0.9992272251945501, 0.006272829677427774, 0.9926752964529453, 0.001045471612904629, 0.7639749324009113, 0.23594713613479365, 0.007576961051600415, 0.9918930831185998, 0.9993729420570784, 0.9988114243607419, 0.0008133643520852947, 0.9994524936171163, 0.9083504386006358, 0.016262962992447512, 0.07528472756054354, 0.9987104352018078, 0.9332368535519135, 0.06315955368262659, 0.003629859407047505, 0.9983494126143424, 0.0018307140818111414, 0.9998188442645024, 0.9993561244408993, 0.0005484940309774419, 0.00027424701548872096, 0.9992200961846073, 0.9997972722883605, 0.0001395195746983478, 0.9983849658760834, 0.12839433902021422, 0.8713306734417264, 0.9990310382424682, 0.7425075278760935, 0.05364482776835355, 0.2038503455197435, 0.9989445537953546, 0.9994035138136202, 0.9968728527851709, 0.0024921821319629275, 0.0026603467060749885, 0.9960338067544756, 0.0010641386824299954, 0.9993082344258383, 0.9987723760661091, 0.9993853081961926, 0.9992243298033351, 0.006213096648741978, 0.001035516108123663, 0.9930599476905929, 0.9986984610111441, 0.9976936269797257, 0.000916997818915189, 0.001833995637830378, 0.9995582596791315, 0.9989181693201852, 0.9983923666056533, 0.2388819204178067, 0.6443355583161381, 0.11685845296114328, 0.7584279568063038, 0.2264171372883288, 0.014932418563494077, 0.999283375954654, 0.0006385617182638105, 0.9987105273645995, 0.9990001774442139, 0.0007786439418894886, 0.9989434374399279, 0.9988784824171194, 0.000793390375232025, 0.9988231694314681, 0.000917614303565887, 0.9996131633647486, 0.11791660628164298, 0.8756038904467456, 0.006334363147360986, 0.9996049425780259, 0.0011181745427643758, 0.9985298666885876, 0.5146343236460632, 0.28304887800533474, 0.20213348133568265, 0.6873166976014633, 0.23447453994241238, 0.07815817998080413, 0.9988896848573441, 0.9995884588174986, 0.9982599996716508, 0.9995707840670294, 0.03139064792876432, 0.9665703674732015, 0.002615887327397027, 0.9606523152332763, 0.03913575428706992, 0.9996232687547271, 0.0020450833465827226, 0.9980006731323686, 0.9348502635358606, 0.0644147385165649, 0.000836555045669674, 0.008872198042062235, 0.04790986942713607, 0.9431146518712157, 0.9991534613246716, 0.9994814616727732, 0.9990396388342225, 0.9988738117103978, 0.9995005060042731, 0.9993545929350375, 0.9995842392325677, 0.9989764422851029, 0.0006083900379324622, 0.9993374308179941, 0.9844318006455914, 0.0029284039682070146, 0.012689750528897063, 0.999337929035014, 0.0008651790829996001, 0.9992818408645382, 0.9990470567357786, 0.8364199032694234, 0.16317380913904722, 0.999507244409461, 0.0002870274183316479, 0.9994294706307979, 0.0002870274183316479, 0.43268423055526445, 0.03402413088936056, 0.5332587055112359, 0.9994521935938282, 0.9996415283795155, 0.9991967976476364, 0.9990378900106872, 0.9985190032286592, 0.9998417636802609, 0.9988738897751988, 0.0009248832312733321, 0.9995592889514623, 0.0006427568388397294, 0.0006427568388397294, 0.9988441275569394, 0.0005479319390677977, 0.010958638781355954, 0.988469218078307, 0.9989966470195679, 0.9993357858011852, 0.9993972234626324, 0.9943702229500814, 0.0050862927005119254, 0.0008591877559167746, 0.9992353601312087, 0.9995685792205888, 0.9995188952690017, 0.9994381537417353, 0.9990529332378466, 0.9995742597281959, 0.9994406668717544, 0.0009052904591229659, 0.9993313048813468, 0.9989664696309702, 0.000509574013603175, 0.00101914802720635, 0.9987650666622229, 0.9988247230954039, 0.00042394937313047705, 0.00042394937313047705, 0.9996408331410255, 0.998771473933702, 0.0009088002492572357, 0.9991641336133521, 0.9993215639190708, 0.0005983961460593239, 0.999622841971055, 0.2103936108644031, 0.37659030637781354, 0.4130476697318582, 0.9991798826611421, 0.9997175307277161, 0.010616343246043167, 0.3609556703654677, 0.6283080890123013, 0.9990788649848767, 0.9994529161735436, 0.9998299579914325, 0.00021232320195188628, 0.00021232320195188628, 0.00046573558559174664, 0.9994685666798884, 0.9994984125789552, 0.9993580811988121], \"Term\": [\"\\u0431\\u0435\\u0434\\u043d\\u044b\\u0439\", \"\\u0431\\u043e\\u0433\", \"\\u0431\\u043e\\u0433\", \"\\u0431\\u043e\\u043b\\u044c\", \"\\u0431\\u043e\\u043b\\u044c\\u043d\\u0438\\u0446\\u0430\", \"\\u0431\\u043e\\u043b\\u044c\\u0448\", \"\\u0431\\u043e\\u043b\\u044c\\u0448\", \"\\u0431\\u043e\\u043b\\u044c\\u0448\", \"\\u0431\\u043e\\u044f\\u0442\\u044c\\u0441\\u044f\", \"\\u0431\\u0440\\u0430\\u0442\", \"\\u0432\\u0435\\u0447\\u0435\\u0440\", \"\\u0432\\u0435\\u0447\\u0435\\u0440\", \"\\u0432\\u0435\\u0447\\u0435\\u0440\", \"\\u0432\\u043e\\u043f\\u0440\\u043e\\u0441\", \"\\u0432\\u0440\\u0435\\u043c\\u044f\", \"\\u0432\\u0440\\u0435\\u043c\\u044f\", \"\\u0432\\u0440\\u0435\\u043c\\u044f\", \"\\u0432\\u0440\\u043e\\u0434\\u0435\", \"\\u0432\\u0442\\u043e\\u0440\", \"\\u0432\\u0447\\u0435\\u0440\\u0430\", \"\\u0432\\u0447\\u0435\\u0440\\u0430\", \"\\u0432\\u0447\\u0435\\u0440\\u0430\", \"\\u0432\\u044b\\u0439\\u0442\\u0438\", \"\\u0432\\u044b\\u0439\\u0442\\u0438\", \"\\u0432\\u044b\\u0439\\u0442\\u0438\", \"\\u0432\\u044b\\u0441\\u043f\\u0430\\u0442\\u044c\\u0441\\u044f\", \"\\u0433\\u043e\\u0434\", \"\\u0433\\u043e\\u0434\", \"\\u0433\\u043e\\u043b\\u043e\\u0432\\u0430\", \"\\u0433\\u043e\\u043b\\u043e\\u0432\\u0430\", \"\\u0433\\u043e\\u043b\\u043e\\u0432\\u0430\", \"\\u0433\\u043e\\u0440\\u043e\\u0434\", \"\\u0433\\u043e\\u0440\\u043e\\u0434\", \"\\u0433\\u043e\\u0440\\u043e\\u0434\", \"\\u0434\\u0435\\u0432\\u0443\\u0448\\u043a\\u0430\", \"\\u0434\\u0435\\u043b\\u043e\", \"\\u0434\\u0435\\u043b\\u043e\", \"\\u0434\\u0435\\u043b\\u043e\", \"\\u0434\\u0435\\u043d\\u044c\", \"\\u0434\\u0435\\u043d\\u044c\", \"\\u0434\\u0435\\u043d\\u044c\\u0433\\u0430\", \"\\u0434\\u0435\\u043d\\u044c\\u0433\\u0430\", \"\\u0434\\u043e\\u0431\\u0440\\u044b\\u0439\", \"\\u0434\\u043e\\u043b\\u0433\\u043e\", \"\\u0434\\u043e\\u043b\\u0433\\u043e\", \"\\u0434\\u043e\\u043b\\u0436\\u043d\\u044b\\u0439\", \"\\u0434\\u043e\\u043c\", \"\\u0434\\u043e\\u043c\", \"\\u0434\\u043e\\u043c\", \"\\u0434\\u043e\\u0440\\u043e\\u0433\\u0430\", \"\\u0434\\u0440\\u0443\\u0433\", \"\\u0434\\u0440\\u0443\\u0433\", \"\\u0434\\u0440\\u0443\\u0433\", \"\\u0436\\u0430\\u043b\\u043a\\u043e\", \"\\u0436\\u0430\\u043b\\u043a\\u043e\", \"\\u0436\\u0430\\u043b\\u044c\", \"\\u0436\\u0438\\u0437\\u043d\\u044c\", \"\\u0436\\u0438\\u0437\\u043d\\u044c\", \"\\u0436\\u0438\\u0437\\u043d\\u044c\", \"\\u0436\\u043e\\u043f\\u0430\", \"\\u0437\\u0430\\u0432\\u0442\\u0440\\u0430\", \"\\u0437\\u0430\\u0432\\u0442\\u0440\\u0430\", \"\\u0437\\u0430\\u0439\\u0442\\u0438\", \"\\u0437\\u0430\\u043a\\u043e\\u043d\\u0447\\u0438\\u0442\\u044c\\u0441\\u044f\", \"\\u0437\\u0430\\u043a\\u043e\\u043d\\u0447\\u0438\\u0442\\u044c\\u0441\\u044f\", \"\\u0437\\u0438\\u043c\\u0430\", \"\\u0438\\u0434\\u0442\\u0438\", \"\\u0438\\u0434\\u0442\\u0438\", \"\\u0438\\u0434\\u0442\\u0438\", \"\\u0438\\u043d\\u0442\\u0435\\u0440\\u043d\\u0435\\u0442\", \"\\u0438\\u0441\\u0442\\u043e\\u0440\\u0438\\u044f\", \"\\u043a\\u0430\\u0436\\u0434\\u044b\\u0439\", \"\\u043a\\u0430\\u0436\\u0434\\u044b\\u0439\", \"\\u043a\\u0430\\u0437\\u0430\\u0442\\u044c\\u0441\\u044f\", \"\\u043a\\u0430\\u0437\\u0430\\u0442\\u044c\\u0441\\u044f\", \"\\u043a\\u0430\\u0437\\u0430\\u0442\\u044c\\u0441\\u044f\", \"\\u043a\\u0430\\u043d\\u0438\\u043a\\u0443\\u043b\\u044b\", \"\\u043a\\u0430\\u0442\\u043e\\u043a\", \"\\u043a\\u043e\\u043d\\u0435\\u0446\", \"\\u043a\\u0440\\u0430\\u0441\\u0438\\u0432\\u044b\\u0439\", \"\\u043a\\u0440\\u0443\\u0442\\u043e\", \"\\u043a\\u0440\\u0443\\u0442\\u043e\", \"\\u043a\\u0440\\u0443\\u0442\\u043e\", \"\\u043a\\u0441\\u0442\\u0430\\u0442\\u0438\", \"\\u043b\\u0435\\u043d\\u0442\\u0430\", \"\\u043b\\u0435\\u043d\\u0442\\u0430\", \"\\u043b\\u0435\\u043d\\u0442\\u0430\", \"\\u043b\\u0435\\u043d\\u044c\", \"\\u043b\\u0438\\u0431\\u043e\", \"\\u043b\\u0438\\u0446\\u043e\", \"\\u043c\\u0430\\u043b\\u0435\\u043d\\u044c\\u043a\\u0438\\u0439\", \"\\u043c\\u0430\\u043b\\u0435\\u043d\\u044c\\u043a\\u0438\\u0439\", \"\\u043c\\u0430\\u043b\\u0435\\u043d\\u044c\\u043a\\u0438\\u0439\", \"\\u043c\\u0430\\u043c\\u0430\", \"\\u043c\\u0430\\u043c\\u0430\", \"\\u043c\\u0430\\u043c\\u0430\", \"\\u043c\\u0435\\u0441\\u044f\\u0446\", \"\\u043c\\u0438\\u043d\\u0443\\u0442\\u0430\", \"\\u043c\\u0438\\u043d\\u0443\\u0442\\u0430\", \"\\u043c\\u043e\\u043c\\u0435\\u043d\\u0442\", \"\\u043c\\u043e\\u043c\\u0435\\u043d\\u0442\", \"\\u043d\\u0430\\u0432\\u0435\\u0440\\u043d\\u043e\\u0435\", \"\\u043d\\u0430\\u0434\\u0435\\u044f\\u0442\\u044c\\u0441\\u044f\", \"\\u043d\\u0430\\u0434\\u0435\\u044f\\u0442\\u044c\\u0441\\u044f\", \"\\u043d\\u0430\\u0439\\u0442\\u0438\", \"\\u043d\\u0430\\u0439\\u0442\\u0438\", \"\\u043d\\u0430\\u0441\\u0442\\u0440\\u043e\\u0435\\u043d\\u0438\\u0435\", \"\\u043d\\u0430\\u0448\", \"\\u043d\\u0430\\u0448\", \"\\u043d\\u0430\\u0448\", \"\\u043d\\u0435\\u0434\\u0435\\u043b\\u044f\", \"\\u043d\\u0435\\u043c\\u043d\\u043e\\u0433\\u043e\", \"\\u043d\\u0435\\u043c\\u043d\\u043e\\u0433\\u043e\", \"\\u043d\\u0438\\u043a\\u0442\\u043e\", \"\\u043d\\u0438\\u043a\\u0442\\u043e\", \"\\u043d\\u0438\\u043a\\u0442\\u043e\", \"\\u043d\\u043e\\u0432\\u044b\\u0439\", \"\\u043d\\u043e\\u0432\\u044b\\u0439\", \"\\u043d\\u043e\\u0432\\u044b\\u0439\", \"\\u043d\\u043e\\u0433\\u0430\", \"\\u043d\\u043e\\u0447\\u044c\", \"\\u043d\\u043e\\u0447\\u044c\\u044e\", \"\\u043d\\u0440\\u0430\\u0432\\u0438\\u0442\\u044c\\u0441\\u044f\", \"\\u043d\\u0443\\u0436\\u043d\\u044b\\u0439\", \"\\u043d\\u0443\\u0436\\u043d\\u044b\\u0439\", \"\\u043d\\u0443\\u0436\\u043d\\u044b\\u0439\", \"\\u043e\\u0441\\u0442\\u0430\\u0442\\u044c\\u0441\\u044f\", \"\\u043e\\u0441\\u0442\\u0430\\u0442\\u044c\\u0441\\u044f\", \"\\u043f\\u0430\\u0440\\u0430\", \"\\u043f\\u0430\\u0440\\u0435\\u043d\\u044c\", \"\\u043f\\u0430\\u0440\\u0435\\u043d\\u044c\", \"\\u043f\\u0435\\u0440\\u0432\\u044b\\u0439\", \"\\u043f\\u0435\\u0440\\u0432\\u044b\\u0439\", \"\\u043f\\u0435\\u0440\\u0432\\u044b\\u0439\", \"\\u043f\\u0435\\u0441\\u043d\\u044f\", \"\\u043f\\u0435\\u0441\\u043d\\u044f\", \"\\u043f\\u0435\\u0441\\u043d\\u044f\", \"\\u043f\\u0435\\u0447\\u0430\\u043b\\u044c\", \"\\u043f\\u043e\\u0433\\u043e\\u0434\\u0430\", \"\\u043f\\u043e\\u0434\\u0440\\u0443\\u0433\\u0430\", \"\\u043f\\u043e\\u043b\\u0443\\u0447\\u0430\\u0442\\u044c\\u0441\\u044f\", \"\\u043f\\u043e\\u043b\\u0443\\u0447\\u0438\\u0442\\u044c\\u0441\\u044f\", \"\\u043f\\u043e\\u043d\\u0435\\u0434\\u0435\\u043b\\u044c\\u043d\\u0438\\u043a\", \"\\u043f\\u043e\\u0441\\u043b\\u0435\\u0434\\u043d\\u0438\\u0439\", \"\\u043f\\u0440\\u0430\\u0432\\u0434\\u0430\", \"\\u043f\\u0440\\u0430\\u0432\\u0434\\u0430\", \"\\u043f\\u0440\\u0438\\u0432\\u0435\\u0442\", \"\\u043f\\u0440\\u0438\\u0439\\u0442\\u0438\", \"\\u043f\\u0440\\u0438\\u0439\\u0442\\u0438\", \"\\u043f\\u0440\\u0438\\u0439\\u0442\\u0438\", \"\\u043f\\u0440\\u0438\\u0439\\u0442\\u0438\\u0441\\u044c\", \"\\u043f\\u0440\\u044f\\u043c\", \"\\u043f\\u0440\\u044f\\u043c\", \"\\u043f\\u044b\\u0442\\u0430\\u0442\\u044c\\u0441\\u044f\", \"\\u0440\\u0430\\u0431\\u043e\\u0442\\u0430\", \"\\u0440\\u0430\\u0431\\u043e\\u0442\\u0430\", \"\\u0440\\u0430\\u043d\\u043d\\u0438\\u0439\", \"\\u0441\\u0430\\u043c\\u044b\\u0439\", \"\\u0441\\u0430\\u043c\\u044b\\u0439\", \"\\u0441\\u0430\\u043c\\u044b\\u0439\", \"\\u0441\\u0435\\u0433\\u043e\\u0434\\u043d\\u044f\", \"\\u0441\\u0435\\u0433\\u043e\\u0434\\u043d\\u044f\", \"\\u0441\\u0435\\u0433\\u043e\\u0434\\u043d\\u044f\", \"\\u0441\\u0435\\u0437\\u043e\\u043d\", \"\\u0441\\u0435\\u0440\\u0434\\u0446\\u0435\", \"\\u0441\\u0435\\u0440\\u0438\\u044f\", \"\\u0441\\u0435\\u0441\\u0441\\u0438\\u044f\", \"\\u0441\\u043a\\u043e\\u0440\\u0435\\u0435\", \"\\u0441\\u043a\\u043e\\u0440\\u043e\", \"\\u0441\\u043b\\u0435\\u0437\\u0430\", \"\\u0441\\u043b\\u0435\\u0437\\u0430\", \"\\u0441\\u043b\\u0438\\u0448\\u043a\\u043e\\u043c\", \"\\u0441\\u043b\\u043e\\u0432\\u043e\", \"\\u0441\\u043b\\u043e\\u0432\\u043e\", \"\\u0441\\u043b\\u043e\\u0432\\u043e\", \"\\u0441\\u043d\\u0435\\u0433\", \"\\u0441\\u043d\\u0435\\u0433\", \"\\u0441\\u043d\\u0435\\u0433\", \"\\u0441\\u043e\\u0441\\u043a\\u0443\\u0447\\u0438\\u0442\\u044c\\u0441\\u044f\", \"\\u0441\\u043f\\u0430\\u0441\\u0438\\u0431\\u043e\", \"\\u0441\\u0440\\u0430\\u0437\\u0443\", \"\\u0441\\u0442\\u043e\\u043b\\u044c\\u043a\\u043e\", \"\\u0441\\u0442\\u043e\\u043b\\u044c\\u043a\\u043e\", \"\\u0442\\u0430\\u043a\\u0438\", \"\\u0442\\u0430\\u043a\\u0438\", \"\\u0442\\u0432\\u0438\\u0442\", \"\\u0442\\u0432\\u0438\\u0442\\u0442\\u0435\\u0440\", \"\\u0442\\u0435\\u043b\\u0435\\u0444\\u043e\\u043d\", \"\\u0442\\u0435\\u043c\\u043f\\u0435\\u0440\\u0430\\u0442\\u0443\\u0440\\u0430\", \"\\u0442\\u0443\\u043f\", \"\\u0443\\u0436\\u0430\\u0441\", \"\\u0443\\u0436\\u0430\\u0441\", \"\\u0443\\u0436\\u0430\\u0441\\u043d\\u044b\\u0439\", \"\\u0443\\u0439\\u0442\\u0438\", \"\\u0443\\u043b\\u0438\\u0446\\u0430\", \"\\u0443\\u043b\\u0438\\u0446\\u0430\", \"\\u0443\\u043b\\u0438\\u0446\\u0430\", \"\\u0443\\u0440\\u043e\\u043a\", \"\\u0443\\u0440\\u043e\\u043a\", \"\\u0443\\u0440\\u043e\\u043a\", \"\\u0443\\u0442\\u0440\\u043e\", \"\\u0443\\u0447\\u0438\\u0442\\u044c\\u0441\\u044f\", \"\\u0443\\u0447\\u0438\\u0442\\u044c\\u0441\\u044f\", \"\\u0443\\u0447\\u0451\\u0431\\u0430\", \"\\u0444\\u0438\\u043b\\u044c\\u043c\", \"\\u0444\\u0438\\u043b\\u044c\\u043c\", \"\\u0444\\u043e\\u0442\\u043a\\u0430\", \"\\u0445\\u043e\\u0440\\u043e\\u0448\\u0438\\u0439\", \"\\u0445\\u043e\\u0440\\u043e\\u0448\\u0438\\u0439\", \"\\u0445\\u043e\\u0440\\u043e\\u0448\\u0438\\u0439\", \"\\u0446\\u0435\\u043b\\u044b\\u0439\", \"\\u0447\\u0430\\u0441\", \"\\u0447\\u0435\\u043b\\u043e\\u0432\\u0435\\u043a\", \"\\u0447\\u0435\\u043b\\u043e\\u0432\\u0435\\u043a\", \"\\u0447\\u0435\\u043b\\u043e\\u0432\\u0435\\u043a\", \"\\u0447\\u0435\\u0440\\u0442\\u0430\", \"\\u0447\\u0443\\u0432\\u0441\\u0442\\u0432\\u043e\", \"\\u0448\\u043a\\u043e\\u043b\\u0430\", \"\\u0448\\u043a\\u043e\\u043b\\u0430\", \"\\u0448\\u043a\\u043e\\u043b\\u0430\", \"\\u044d\\u043a\\u0437\\u0430\\u043c\\u0435\\u043d\", \"\\u044d\\u043a\\u0437\\u0430\\u043c\\u0435\\u043d\", \"\\u044f\\u043d\\u0432\\u0430\\u0440\\u044c\", \"\\u0451\\u043b\\u043a\\u0430\"]}, \"R\": 30, \"lambda.step\": 0.01, \"plot.opts\": {\"xlab\": \"PC1\", \"ylab\": \"PC2\"}, \"topic.order\": [2, 1, 3]};\n",
       "\n",
       "function LDAvis_load_lib(url, callback){\n",
       "  var s = document.createElement('script');\n",
       "  s.src = url;\n",
       "  s.async = true;\n",
       "  s.onreadystatechange = s.onload = callback;\n",
       "  s.onerror = function(){console.warn(\"failed to load library \" + url);};\n",
       "  document.getElementsByTagName(\"head\")[0].appendChild(s);\n",
       "}\n",
       "\n",
       "if(typeof(LDAvis) !== \"undefined\"){\n",
       "   // already loaded: just create the visualization\n",
       "   !function(LDAvis){\n",
       "       new LDAvis(\"#\" + \"ldavis_el961851402698262936481300600293\", ldavis_el961851402698262936481300600293_data);\n",
       "   }(LDAvis);\n",
       "}else if(typeof define === \"function\" && define.amd){\n",
       "   // require.js is available: use it to load d3/LDAvis\n",
       "   require.config({paths: {d3: \"https://d3js.org/d3.v5\"}});\n",
       "   require([\"d3\"], function(d3){\n",
       "      window.d3 = d3;\n",
       "      LDAvis_load_lib(\"https://cdn.jsdelivr.net/gh/bmabey/pyLDAvis@3.3.1/pyLDAvis/js/ldavis.v3.0.0.js\", function(){\n",
       "        new LDAvis(\"#\" + \"ldavis_el961851402698262936481300600293\", ldavis_el961851402698262936481300600293_data);\n",
       "      });\n",
       "    });\n",
       "}else{\n",
       "    // require.js not available: dynamically load d3 & LDAvis\n",
       "    LDAvis_load_lib(\"https://d3js.org/d3.v5.js\", function(){\n",
       "         LDAvis_load_lib(\"https://cdn.jsdelivr.net/gh/bmabey/pyLDAvis@3.3.1/pyLDAvis/js/ldavis.v3.0.0.js\", function(){\n",
       "                 new LDAvis(\"#\" + \"ldavis_el961851402698262936481300600293\", ldavis_el961851402698262936481300600293_data);\n",
       "            })\n",
       "         });\n",
       "}\n",
       "</script>"
      ],
      "text/plain": [
       "<IPython.core.display.HTML object>"
      ]
     },
     "execution_count": 15,
     "metadata": {},
     "output_type": "execute_result"
    }
   ],
   "source": [
    "vis_data = gensimvis.prepare(lda, corpus, dictionary)\n",
    "pyLDAvis.display(vis_data)"
   ]
  }
 ],
 "metadata": {
  "kernelspec": {
   "display_name": "Python 3 (ipykernel)",
   "language": "python",
   "name": "python3"
  },
  "language_info": {
   "codemirror_mode": {
    "name": "ipython",
    "version": 3
   },
   "file_extension": ".py",
   "mimetype": "text/x-python",
   "name": "python",
   "nbconvert_exporter": "python",
   "pygments_lexer": "ipython3",
   "version": "3.9.7"
  }
 },
 "nbformat": 4,
 "nbformat_minor": 5
}
