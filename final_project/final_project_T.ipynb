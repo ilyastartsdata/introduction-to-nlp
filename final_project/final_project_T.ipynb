{
 "cells": [
  {
   "cell_type": "code",
   "execution_count": null,
   "id": "ef7fd68d",
   "metadata": {},
   "outputs": [],
   "source": [
    "import os\n",
    "from telegram.ext  import Updater, CommandHandler, MessageHandler, Filters, CallbackContext\n",
    "from telegram import Update\n",
    "import string\n",
    "from pymorphy2 import MorphAnalyzer\n",
    "from stop_words import get_stop_words\n",
    "import annoy\n",
    "from gensim.models import Word2Vec, FastText\n",
    "import pickle\n",
    "import numpy as np\n",
    "from tqdm import tqdm_notebook\n",
    "import pandas as pd"
   ]
  },
  {
   "cell_type": "markdown",
   "id": "d6da47e9",
   "metadata": {},
   "source": [
    "---"
   ]
  },
  {
   "cell_type": "code",
   "execution_count": null,
   "id": "89dae630",
   "metadata": {},
   "outputs": [],
   "source": [
    "## Болталка\n",
    "\n",
    "### Препроцессинг\n",
    "\n",
    "morpher = MorphAnalyzer()\n",
    "sw = set(get_stop_words(\"ru\"))\n",
    "exclude = set(string.punctuation)\n",
    "\n",
    "def preprocess_txt(line):\n",
    "    spls = \"\".join(i for i in line.strip() if i not in exclude).split()\n",
    "    spls = [morpher.parse(i.lower())[0].normal_form for i in spls]\n",
    "    spls = [i for i in spls if i not in sw and i != \"\"]\n",
    "    return spls"
   ]
  },
  {
   "cell_type": "code",
   "execution_count": null,
   "id": "06026fb4",
   "metadata": {},
   "outputs": [],
   "source": [
    "modelFT = FastText.load(\"ft_model\")\n",
    "ft_index = annoy.AnnoyIndex(100 ,'angular')\n",
    "\n",
    "index_map = {}\n",
    "counter = 0\n",
    "\n",
    "with open(\"prepared_answers.txt\", \"r\") as f:\n",
    "    for line in tqdm_notebook(f):\n",
    "        n_ft = 0\n",
    "        spls = line.split(\"\\t\")\n",
    "        index_map[counter] = spls[1]\n",
    "        question = preprocess_txt(spls[0])\n",
    "        vector_ft = np.zeros(100)\n",
    "        for word in question:\n",
    "            if word in modelFT.wv:\n",
    "                vector_ft += modelFT.wv[word]\n",
    "                n_ft += 1\n",
    "        if n_ft > 0:\n",
    "            vector_ft = vector_ft / n_ft\n",
    "        ft_index.add_item(counter, vector_ft)\n",
    "            \n",
    "        counter += 1\n",
    "\n",
    "ft_index.build(10)\n",
    "ft_index.save('speaker.ann')"
   ]
  },
  {
   "cell_type": "code",
   "execution_count": null,
   "id": "b108c22d",
   "metadata": {},
   "outputs": [],
   "source": [
    "ft_index = annoy.AnnoyIndex(100, 'angular')\n",
    "ft_index.load('speaker.ann')"
   ]
  },
  {
   "cell_type": "code",
   "execution_count": null,
   "id": "8535781f",
   "metadata": {},
   "outputs": [],
   "source": [
    "ft_index.get_nns_by_vector(np.zeros(100), 2)"
   ]
  },
  {
   "cell_type": "code",
   "execution_count": null,
   "id": "fe00579f",
   "metadata": {},
   "outputs": [],
   "source": [
    "def embed_txt(txt, idfs, midf):\n",
    "    n_ft = 0\n",
    "    vector_ft = np.zeros(100)\n",
    "    for word in txt:\n",
    "        if word in modelFT.wv:\n",
    "            vector_ft += modelFT.wv[word] * 1\n",
    "            n_ft += 1\n",
    "    return vector_ft / n_ft"
   ]
  },
  {
   "cell_type": "markdown",
   "id": "4dd0f823",
   "metadata": {},
   "source": [
    "---"
   ]
  },
  {
   "cell_type": "code",
   "execution_count": null,
   "id": "3057d721",
   "metadata": {},
   "outputs": [],
   "source": [
    "## Определение запроса\n",
    "\n",
    "### Язык\n",
    "\n",
    "import re \n",
    "\n",
    "def is_english(text):\n",
    "    return bool(re.search(r'[a-zA-Z]', text))\n",
    "\n",
    "### Ключевые слова (погода)\n",
    "\n",
    "list_for_weather = ['погода','солнечно', 'осадка', 'дождь', 'снег', 'ливень', 'зонт']\n",
    "list_for_translation = ['перевод', 'английский']\n",
    "\n",
    "### Проверка ключевых слов\n",
    "\n",
    "def is_in_list(text, list):\n",
    "    for word in text:\n",
    "        if word in list:\n",
    "            return True\n",
    "            break\n",
    "    return False"
   ]
  },
  {
   "cell_type": "markdown",
   "id": "a6ffc10e",
   "metadata": {},
   "source": [
    "---"
   ]
  },
  {
   "cell_type": "code",
   "execution_count": null,
   "id": "ebc2b75e",
   "metadata": {},
   "outputs": [],
   "source": [
    "## Прогноз погоды\n",
    "\n",
    "### API Request\n",
    "\n",
    "import requests \n",
    "import json\n",
    "\n",
    "key = '2f1827ed5db24c38a4c122319222108'\n",
    "\n",
    "def get_weather(city):\n",
    "    url = f'http://api.weatherapi.com/v1/current.json?key={key}&q={city}&lang=ru'\n",
    "    requests.get(url)\n",
    "    response = requests.get(url)\n",
    "    json_data = json.loads(response.text)\n",
    "\n",
    "    city = json_data['location']['name']\n",
    "    time = json_data['location']['localtime'].split(' ')[1]\n",
    "    temp = json_data['current']['temp_c']\n",
    "    temp_fl = json_data['current']['feelslike_c']\n",
    "    condition = json_data['current']['condition']['text']\n",
    "    wind = json_data['current']['wind_mph']\n",
    "    uv = json_data['current']['uv']\n",
    "\n",
    "    msg = f'В городе {city} сейчас {time}. О погоде: {condition}, температура {temp} градусов, ощущается как {temp_fl} градусов, скорость ветра {wind} м/ч, уровень ультрафиолета {uv}'\n",
    "\n",
    "    return msg\n",
    "\n",
    "### Определение города\n",
    "\n",
    "import spacy\n",
    "\n",
    "nlp = spacy.load(\"ru_core_news_sm\")\n",
    "\n",
    "def location_recognition(text): \n",
    "    locs = []\n",
    "    doc = nlp(text)\n",
    "    for ent in doc.ents:\n",
    "        if ent.label_ == 'LOC':\n",
    "            locs.append(ent.text)\n",
    "    locs = [morpher.parse(i.lower())[0].normal_form for i in locs]\n",
    "    return locs\n",
    "\n",
    "### Погода в городе\n",
    "\n",
    "def forecast(text):\n",
    "    city = location_recognition(text)\n",
    "    try:\n",
    "        forecast = get_weather(city)\n",
    "    except:\n",
    "        forecast = 'Уточните'\n",
    "    \n",
    "    return forecast"
   ]
  },
  {
   "cell_type": "markdown",
   "id": "e5c270e5",
   "metadata": {},
   "source": [
    "---"
   ]
  },
  {
   "cell_type": "code",
   "execution_count": null,
   "id": "68d5a694",
   "metadata": {},
   "outputs": [],
   "source": [
    "## Перевод текста\n",
    "\n",
    "### Загрузка модели\n",
    "\n",
    "from transformers import FSMTForConditionalGeneration, FSMTTokenizer\n",
    "\n",
    "model_name = \"facebook/wmt19-en-ru\"\n",
    "tokenizer = FSMTTokenizer.from_pretrained(model_name)\n",
    "model = FSMTForConditionalGeneration.from_pretrained(model_name)\n",
    "\n",
    "### Функция перевода\n",
    "\n",
    "def en_ru_translation(text):\n",
    "    input_ids = tokenizer.encode(text, return_tensors=\"pt\")\n",
    "    outputs = model.generate(input_ids)\n",
    "    decoded = tokenizer.decode(outputs[0], skip_special_tokens=True)\n",
    "    \n",
    "    return decoded "
   ]
  },
  {
   "cell_type": "markdown",
   "id": "dcb9781d",
   "metadata": {},
   "source": [
    "---"
   ]
  },
  {
   "cell_type": "code",
   "execution_count": null,
   "id": "35dc777b",
   "metadata": {},
   "outputs": [],
   "source": [
    "## Бот\n",
    "\n",
    "updater = Updater(token='123456:ABC-DEF1234ghIkl-zyx57W2v1u123ew11') # Example Token\n",
    "dispatcher = updater.dispatcher\n",
    "\n",
    "def startCommand(update: Update, context: CallbackContext):\n",
    "    update.message.reply_text('Привет!')\n",
    "    \n",
    "# Определение и выполнение запроса пользователя\n",
    "\n",
    "def textMessage(update: Update, context: CallbackContext):\n",
    "    input_txt = preprocess_txt(update.message.text)\n",
    "    \n",
    "    # Перевод с английского\n",
    "    if is_english(update.message.text) == True:\n",
    "        update.message.reply_text(en_ru_translation(update.message.text))\n",
    "    elif is_in_list(input_txt, list_for_translation) == True:\n",
    "        update.message.reply_text(\"Какое предложение вам перевести?\") \n",
    "        \n",
    "    # Прогноз погоды    \n",
    "    elif is_in_list(input_txt, list_for_weather) == True:        \n",
    "        update.message.reply_text(forecast(update.message.text))\n",
    "            \n",
    "    # Болталка\n",
    "    else: \n",
    "        vect_ft = embed_txt(input_txt, {}, 1)\n",
    "        ft_index_val, distances = ft_index.get_nns_by_vector(vect_ft, 1, include_distances=True)\n",
    "        if distances[0] > 0.35:\n",
    "            print(distances[0])\n",
    "            update.message.reply_text(\"Не понимаю тебя\")\n",
    "        else:\n",
    "            update.message.reply_text(index_map[ft_index_val[0]])\n",
    "            \n",
    "    return\n",
    "\n",
    "\n",
    "\n",
    "# on different commands - answer in Telegram\n",
    "dispatcher.add_handler(CommandHandler(\"start\", startCommand))\n",
    "dispatcher.add_handler(MessageHandler(Filters.text & ~Filters.command, textMessage))\n",
    "\n",
    "# Start the Bot\n",
    "updater.start_polling()\n",
    "updater.idle()"
   ]
  }
 ],
 "metadata": {
  "kernelspec": {
   "display_name": "Python 3 (ipykernel)",
   "language": "python",
   "name": "python3"
  },
  "language_info": {
   "codemirror_mode": {
    "name": "ipython",
    "version": 3
   },
   "file_extension": ".py",
   "mimetype": "text/x-python",
   "name": "python",
   "nbconvert_exporter": "python",
   "pygments_lexer": "ipython3",
   "version": "3.9.12"
  }
 },
 "nbformat": 4,
 "nbformat_minor": 5
}
