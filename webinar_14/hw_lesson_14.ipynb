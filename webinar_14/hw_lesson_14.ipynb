{
 "cells": [
  {
   "cell_type": "markdown",
   "id": "215a4bd6",
   "metadata": {},
   "source": [
    "## Задание"
   ]
  },
  {
   "cell_type": "markdown",
   "id": "53d9d952",
   "metadata": {},
   "source": [
    "- Взять данные из https://www.kaggle.com/datasets/mrapplexz/bashim-quotes, обучить модель GPT для генерации своих цитат\n",
    "\n",
    "- Взять новостные данные из https://github.com/natasha/corus load_lenta2, нам понадобиться сам текст и заголовок, обучить модель T5/ или GPT для генерации заголовков для статей\n"
   ]
  },
  {
   "cell_type": "markdown",
   "id": "b9de8f88",
   "metadata": {},
   "source": [
    "---"
   ]
  },
  {
   "cell_type": "code",
   "execution_count": null,
   "id": "ea8515d2",
   "metadata": {},
   "outputs": [],
   "source": [
    "#!wget https://www.dropbox.com/s/ykqk49a8avlmnaf/ru_all_split.tar.gz"
   ]
  },
  {
   "cell_type": "code",
   "execution_count": null,
   "id": "38430e3a",
   "metadata": {},
   "outputs": [],
   "source": [
    "import os\n",
    "\n",
    "os.listdir('./ru_all_split')"
   ]
  },
  {
   "cell_type": "code",
   "execution_count": null,
   "id": "a3a12d1b",
   "metadata": {},
   "outputs": [],
   "source": [
    "# Импорт данных в pandas dataframe\n",
    "\n",
    "import pandas as pd\n",
    "\n",
    "train_data = pd.read_json('./ru_all_split/ru_all_train.jsonl', lines=True) \n",
    "test_data = pd.read_json('./ru_all_split/ru_all_test.jsonl', lines=True)"
   ]
  },
  {
   "cell_type": "code",
   "execution_count": null,
   "id": "331f89e4",
   "metadata": {},
   "outputs": [],
   "source": [
    "# Импорт данных в датасет hugging face\n",
    "\n",
    "from datasets import Dataset\n",
    "\n",
    "train_dataset = Dataset.from_pandas(train_data)\n",
    "test_dataset = Dataset.from_pandas(test_data)"
   ]
  },
  {
   "cell_type": "code",
   "execution_count": null,
   "id": "a4b28ee1",
   "metadata": {},
   "outputs": [],
   "source": [
    "# Ограничим размер датасета (при исходном умирает ядро)\n",
    "\n",
    "train_dataset = train_dataset.select(range(100))\n",
    "test_dataset = test_dataset.select(range(50))"
   ]
  },
  {
   "cell_type": "code",
   "execution_count": null,
   "id": "56ae9240",
   "metadata": {},
   "outputs": [],
   "source": [
    "train_dataset['title'][0]"
   ]
  },
  {
   "cell_type": "markdown",
   "id": "f0d91d99",
   "metadata": {},
   "source": [
    "---"
   ]
  },
  {
   "cell_type": "code",
   "execution_count": null,
   "id": "874816d7",
   "metadata": {},
   "outputs": [],
   "source": [
    "# Модель\n",
    "\n",
    "model_name = \"IlyaGusev/rut5_base_sum_gazeta\""
   ]
  },
  {
   "cell_type": "code",
   "execution_count": null,
   "id": "3fa30ed1",
   "metadata": {},
   "outputs": [],
   "source": [
    "def len_tok(text):\n",
    "    return len(text.split())"
   ]
  },
  {
   "cell_type": "code",
   "execution_count": null,
   "id": "0928f17f",
   "metadata": {},
   "outputs": [],
   "source": [
    "# Максимальная длинна текста и заголовка\n",
    "\n",
    "max_len_text, max_len_tl = max(map(len_tok, train_dataset['text'])), max(map(len_tok, train_dataset['title']))\n",
    "max_len_text, max_len_tl"
   ]
  },
  {
   "cell_type": "code",
   "execution_count": null,
   "id": "ed46c726",
   "metadata": {},
   "outputs": [],
   "source": [
    "max(train_dataset['title'])"
   ]
  },
  {
   "cell_type": "code",
   "execution_count": null,
   "id": "88149c59",
   "metadata": {},
   "outputs": [],
   "source": [
    "# Токенизация\n",
    "\n",
    "from transformers import AutoTokenizer\n",
    "\n",
    "tokenizer = AutoTokenizer.from_pretrained(model_name)\n",
    "\n",
    "def tokenize(batch):\n",
    "    tokenized_input = tokenizer(batch['text'], padding='max_length', truncation=True, max_length=max_len_text)\n",
    "    tokenized_label = tokenizer(batch['title'], padding='max_length', truncation=True, max_length=max_len_tl)\n",
    "\n",
    "    tokenized_input['labels'] = tokenized_label['input_ids']\n",
    "\n",
    "    return tokenized_input\n",
    "\n",
    "train_dataset = train_dataset.map(tokenize, batched=True, batch_size=8)\n",
    "test_dataset = test_dataset.map(tokenize, batched=True, batch_size=8)\n",
    "\n",
    "train_dataset.set_format('numpy', columns=['input_ids', 'attention_mask', 'labels'])\n",
    "test_dataset.set_format('numpy', columns=['input_ids', 'attention_mask', 'labels'])"
   ]
  },
  {
   "cell_type": "code",
   "execution_count": null,
   "id": "84c149e6",
   "metadata": {},
   "outputs": [],
   "source": [
    "# Сохранение на диск\n",
    "\n",
    "train_dataset.save_to_disk('./ru_all_split/train')\n",
    "test_dataset.save_to_disk('./ru_all_split/test')"
   ]
  },
  {
   "cell_type": "code",
   "execution_count": null,
   "id": "56a7c9ad",
   "metadata": {},
   "outputs": [],
   "source": [
    "# Загрузка модели\n",
    "\n",
    "from transformers import T5ForConditionalGeneration, Trainer, TrainingArguments\n",
    "\n",
    "model = T5ForConditionalGeneration.from_pretrained(model_name)"
   ]
  },
  {
   "cell_type": "code",
   "execution_count": null,
   "id": "f477faec",
   "metadata": {},
   "outputs": [],
   "source": [
    "# Тренировочные аргументы\n",
    "\n",
    "output_dir = './ru_all_split/output'\n",
    "\n",
    "training_args = TrainingArguments(\n",
    "    output_dir=output_dir,\n",
    "    num_train_epochs=3,\n",
    "    per_device_train_batch_size=8,\n",
    "    per_device_eval_batch_size=8,\n",
    "    eval_accumulation_steps=1, # Number of eval steps to keep in GPU (the higher, the mor vRAM used)\n",
    "    prediction_loss_only=True, # If I need co compute only loss and not other metrics, setting this to true will use less RAM\n",
    "    learning_rate=0.000001,\n",
    "    evaluation_strategy='steps', # Run evaluation every eval_steps\n",
    "    save_steps=1000, # How often to save a checkpoint\n",
    "    save_total_limit=1, # Number of maximum checkpoints to save\n",
    "    remove_unused_columns=True, # Removes useless columns from the dataset\n",
    "    run_name='run_headlines', # Wandb run name\n",
    "    logging_steps=500, # How often to log loss to wandb\n",
    "    eval_steps=500, # How often to run evaluation on the val_set\n",
    "    logging_first_step=False, # Whether to log also the very first training step to wandb\n",
    "    load_best_model_at_end=True, # Whether to load the best model found at each evaluation.\n",
    "    metric_for_best_model=\"loss\", # Use loss to evaluate best model.\n",
    "    greater_is_better=False # Best model is the one with the lowest loss, not highest.\n",
    ")"
   ]
  },
  {
   "cell_type": "code",
   "execution_count": null,
   "id": "ed79058b",
   "metadata": {},
   "outputs": [],
   "source": [
    "# Обучение\n",
    "\n",
    "trainer = Trainer(\n",
    "    model=model,\n",
    "    args=training_args,\n",
    "    train_dataset=train_dataset,\n",
    "    eval_dataset=test_dataset\n",
    ")"
   ]
  },
  {
   "cell_type": "code",
   "execution_count": null,
   "id": "aefe7e26",
   "metadata": {},
   "outputs": [],
   "source": [
    "trainer.train()"
   ]
  },
  {
   "cell_type": "code",
   "execution_count": null,
   "id": "66162a92",
   "metadata": {},
   "outputs": [],
   "source": [
    "# Сохранение модели\n",
    "\n",
    "trainer.save_model(output_dir + '/model')"
   ]
  },
  {
   "cell_type": "code",
   "execution_count": null,
   "id": "fdfad483",
   "metadata": {},
   "outputs": [],
   "source": [
    "# Индекс для создания заголовка\n",
    "\n",
    "index = 11"
   ]
  },
  {
   "cell_type": "code",
   "execution_count": null,
   "id": "f58bb6c7",
   "metadata": {},
   "outputs": [],
   "source": [
    "# Работа модели\n",
    "\n",
    "import torch\n",
    "\n",
    "input_text = test_dataset['text'][index]\n",
    "\n",
    "with torch.no_grad():\n",
    "    tokenized_text = tokenizer(input_text, truncation=True, padding=True, return_tensors='pt')\n",
    "\n",
    "    source_ids = tokenized_text['input_ids']\n",
    "    source_mask = tokenized_text['attention_mask'] \n",
    "\n",
    "    generated_ids = model.generate(\n",
    "        input_ids = source_ids,\n",
    "        attention_mask = source_mask, \n",
    "        max_length=512,\n",
    "        num_beams=7,\n",
    "        temperature = 1.3,\n",
    "        repetition_penalty=1, \n",
    "        length_penalty=1, \n",
    "        early_stopping=True,\n",
    "        no_repeat_ngram_size=2\n",
    "    )\n",
    "\n",
    "    pred = tokenizer.decode(generated_ids[0], skip_special_tokens=True, clean_up_tokenization_spaces=True)"
   ]
  },
  {
   "cell_type": "code",
   "execution_count": null,
   "id": "11e44ff5",
   "metadata": {},
   "outputs": [],
   "source": [
    "# Сравнение исходного и предсказанного заголовка\n",
    "\n",
    "print('\\nИсходный заголовок:\\n{}'.format(test_dataset['title'][index]))\n",
    "print('\\nПредсказанный заголовок:\\n{}'.format(pred))"
   ]
  }
 ],
 "metadata": {
  "kernelspec": {
   "display_name": "Python 3 (ipykernel)",
   "language": "python",
   "name": "python3"
  },
  "language_info": {
   "codemirror_mode": {
    "name": "ipython",
    "version": 3
   },
   "file_extension": ".py",
   "mimetype": "text/x-python",
   "name": "python",
   "nbconvert_exporter": "python",
   "pygments_lexer": "ipython3",
   "version": "3.9.12"
  }
 },
 "nbformat": 4,
 "nbformat_minor": 5
}
