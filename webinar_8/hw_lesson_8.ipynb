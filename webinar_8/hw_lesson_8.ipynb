{
  "nbformat": 4,
  "nbformat_minor": 0,
  "metadata": {
    "colab": {
      "name": "hw_lesson_8.ipynb",
      "provenance": []
    },
    "kernelspec": {
      "name": "python3",
      "display_name": "Python 3"
    },
    "language_info": {
      "name": "python"
    }
  },
  "cells": [
    {
      "cell_type": "markdown",
      "source": [
        "## Задание\n",
        "\n",
        "Данные берем отзывы за лето\n",
        "\n",
        "На вебинаре мы говорили, что долгое время CNN и RNN архитектуры были конурируещими выяснить какая архитектура больше подходит для нашей задачи:\n",
        "\n",
        "    1. построить свёрточные архитектуры\n",
        "    2. построить различные архитектуры с RNN\n",
        "    3. построить совместные архитектуры CNN -> RNN или (RNN -> CNN)\n",
        "\n",
        "---"
      ],
      "metadata": {
        "id": "-A1-OYqN8dIv"
      }
    },
    {
      "cell_type": "code",
      "source": [
        "!pip install --upgrade xlrd\n",
        "!pip install pymorphy2\n",
        "!pip install stop-words"
      ],
      "metadata": {
        "colab": {
          "base_uri": "https://localhost:8080/"
        },
        "id": "7K3s4omm79NN",
        "outputId": "9c127887-4241-45c8-fa60-ab0701c5cd51"
      },
      "execution_count": 2,
      "outputs": [
        {
          "output_type": "stream",
          "name": "stdout",
          "text": [
            "Looking in indexes: https://pypi.org/simple, https://us-python.pkg.dev/colab-wheels/public/simple/\n",
            "Requirement already satisfied: xlrd in /usr/local/lib/python3.7/dist-packages (1.1.0)\n",
            "Collecting xlrd\n",
            "  Downloading xlrd-2.0.1-py2.py3-none-any.whl (96 kB)\n",
            "\u001b[K     |████████████████████████████████| 96 kB 3.4 MB/s \n",
            "\u001b[?25hInstalling collected packages: xlrd\n",
            "  Attempting uninstall: xlrd\n",
            "    Found existing installation: xlrd 1.1.0\n",
            "    Uninstalling xlrd-1.1.0:\n",
            "      Successfully uninstalled xlrd-1.1.0\n",
            "Successfully installed xlrd-2.0.1\n",
            "Looking in indexes: https://pypi.org/simple, https://us-python.pkg.dev/colab-wheels/public/simple/\n",
            "Collecting pymorphy2\n",
            "  Downloading pymorphy2-0.9.1-py3-none-any.whl (55 kB)\n",
            "\u001b[K     |████████████████████████████████| 55 kB 2.9 MB/s \n",
            "\u001b[?25hCollecting dawg-python>=0.7.1\n",
            "  Downloading DAWG_Python-0.7.2-py2.py3-none-any.whl (11 kB)\n",
            "Collecting pymorphy2-dicts-ru<3.0,>=2.4\n",
            "  Downloading pymorphy2_dicts_ru-2.4.417127.4579844-py2.py3-none-any.whl (8.2 MB)\n",
            "\u001b[K     |████████████████████████████████| 8.2 MB 15.6 MB/s \n",
            "\u001b[?25hRequirement already satisfied: docopt>=0.6 in /usr/local/lib/python3.7/dist-packages (from pymorphy2) (0.6.2)\n",
            "Installing collected packages: pymorphy2-dicts-ru, dawg-python, pymorphy2\n",
            "Successfully installed dawg-python-0.7.2 pymorphy2-0.9.1 pymorphy2-dicts-ru-2.4.417127.4579844\n",
            "Looking in indexes: https://pypi.org/simple, https://us-python.pkg.dev/colab-wheels/public/simple/\n",
            "Collecting stop-words\n",
            "  Downloading stop-words-2018.7.23.tar.gz (31 kB)\n",
            "Building wheels for collected packages: stop-words\n",
            "  Building wheel for stop-words (setup.py) ... \u001b[?25l\u001b[?25hdone\n",
            "  Created wheel for stop-words: filename=stop_words-2018.7.23-py3-none-any.whl size=32911 sha256=5cd0ebf8e50cf46aa0b5a729f216a13afd43f9bf819fb74c2ce81e1b74384bfa\n",
            "  Stored in directory: /root/.cache/pip/wheels/fb/86/b2/277b10b1ce9f73ce15059bf6975d4547cc4ec3feeb651978e9\n",
            "Successfully built stop-words\n",
            "Installing collected packages: stop-words\n",
            "Successfully installed stop-words-2018.7.23\n"
          ]
        }
      ]
    },
    {
      "cell_type": "code",
      "execution_count": 3,
      "metadata": {
        "id": "2YyVd2aK7c-E"
      },
      "outputs": [],
      "source": [
        "import pandas as pd\n",
        "import re\n",
        "\n",
        "from string import punctuation\n",
        "from stop_words import get_stop_words\n",
        "from pymorphy2 import MorphAnalyzer\n",
        "\n",
        "from sklearn.model_selection import train_test_split\n",
        "\n",
        "import keras\n",
        "from keras.models import Sequential, Model\n",
        "from keras.layers import Dense, Dropout, Activation, Input, Embedding, Conv1D, GlobalMaxPool1D, SimpleRNN, LSTM, GRU, Masking, Flatten\n",
        "from keras.preprocessing.text import Tokenizer\n",
        "from keras.preprocessing.sequence import pad_sequences\n",
        "from keras.callbacks import TensorBoard\n",
        "from keras.callbacks import EarlyStopping\n",
        "from keras.utils import np_utils"
      ]
    },
    {
      "cell_type": "code",
      "source": [
        "df = pd.read_excel('отзывы за лето.xls')\n",
        "\n",
        "df.sample(15)\n",
        "df.info()"
      ],
      "metadata": {
        "colab": {
          "base_uri": "https://localhost:8080/"
        },
        "id": "nIxFh7Ez7pza",
        "outputId": "b1df5252-4293-487a-f710-1a49fc9c79d4"
      },
      "execution_count": 4,
      "outputs": [
        {
          "output_type": "stream",
          "name": "stdout",
          "text": [
            "<class 'pandas.core.frame.DataFrame'>\n",
            "RangeIndex: 20659 entries, 0 to 20658\n",
            "Data columns (total 3 columns):\n",
            " #   Column   Non-Null Count  Dtype \n",
            "---  ------   --------------  ----- \n",
            " 0   Rating   20659 non-null  int64 \n",
            " 1   Content  20656 non-null  object\n",
            " 2   Date     20659 non-null  object\n",
            "dtypes: int64(1), object(2)\n",
            "memory usage: 484.3+ KB\n"
          ]
        }
      ]
    },
    {
      "cell_type": "code",
      "source": [
        "df.Content = df.Content.astype(str)"
      ],
      "metadata": {
        "id": "p7kiYsNZ7zcH"
      },
      "execution_count": 5,
      "outputs": []
    },
    {
      "cell_type": "code",
      "source": [
        "sw = set(get_stop_words(\"ru\"))\n",
        "exclude = set(punctuation)\n",
        "morpher = MorphAnalyzer()"
      ],
      "metadata": {
        "id": "27qmWWxq71Kf"
      },
      "execution_count": 6,
      "outputs": []
    },
    {
      "cell_type": "code",
      "source": [
        "def preprocess_text(txt):\n",
        "    txt = str(txt)\n",
        "    txt = \"\".join(c for c in txt if c not in exclude)\n",
        "    txt = txt.lower()\n",
        "    txt = re.sub(\"не\\s\", \"не\", txt)\n",
        "    txt = [morpher.parse(word)[0].normal_form for word in txt.split() if word not in sw]\n",
        "    return \" \".join(txt)"
      ],
      "metadata": {
        "id": "wxfIH1wi71vv"
      },
      "execution_count": 7,
      "outputs": []
    },
    {
      "cell_type": "code",
      "source": [
        "df['Content'] = df['Content'].apply(preprocess_text)\n",
        "\n",
        "df.sample(5)"
      ],
      "metadata": {
        "colab": {
          "base_uri": "https://localhost:8080/",
          "height": 206
        },
        "id": "X4bfNZea74Ig",
        "outputId": "e10aac16-5f88-4dbb-9caa-5c2dceaeb239"
      },
      "execution_count": 8,
      "outputs": [
        {
          "output_type": "execute_result",
          "data": {
            "text/plain": [
              "       Rating                                            Content        Date\n",
              "6454        5      отличный приложение пользоваться минус мелочь  2017-08-04\n",
              "13477       5                                       мненравиться  2017-07-25\n",
              "6809        2  установка последний обновление непогружаться п...  2017-08-04\n",
              "3080        5                                                  👍  2017-08-09\n",
              "17506       5  сбербанк отличный банк приложение мненравиться...  2017-07-11"
            ],
            "text/html": [
              "\n",
              "  <div id=\"df-caa8dc56-54bc-4f2e-a003-48efc84e0a5d\">\n",
              "    <div class=\"colab-df-container\">\n",
              "      <div>\n",
              "<style scoped>\n",
              "    .dataframe tbody tr th:only-of-type {\n",
              "        vertical-align: middle;\n",
              "    }\n",
              "\n",
              "    .dataframe tbody tr th {\n",
              "        vertical-align: top;\n",
              "    }\n",
              "\n",
              "    .dataframe thead th {\n",
              "        text-align: right;\n",
              "    }\n",
              "</style>\n",
              "<table border=\"1\" class=\"dataframe\">\n",
              "  <thead>\n",
              "    <tr style=\"text-align: right;\">\n",
              "      <th></th>\n",
              "      <th>Rating</th>\n",
              "      <th>Content</th>\n",
              "      <th>Date</th>\n",
              "    </tr>\n",
              "  </thead>\n",
              "  <tbody>\n",
              "    <tr>\n",
              "      <th>6454</th>\n",
              "      <td>5</td>\n",
              "      <td>отличный приложение пользоваться минус мелочь</td>\n",
              "      <td>2017-08-04</td>\n",
              "    </tr>\n",
              "    <tr>\n",
              "      <th>13477</th>\n",
              "      <td>5</td>\n",
              "      <td>мненравиться</td>\n",
              "      <td>2017-07-25</td>\n",
              "    </tr>\n",
              "    <tr>\n",
              "      <th>6809</th>\n",
              "      <td>2</td>\n",
              "      <td>установка последний обновление непогружаться п...</td>\n",
              "      <td>2017-08-04</td>\n",
              "    </tr>\n",
              "    <tr>\n",
              "      <th>3080</th>\n",
              "      <td>5</td>\n",
              "      <td>👍</td>\n",
              "      <td>2017-08-09</td>\n",
              "    </tr>\n",
              "    <tr>\n",
              "      <th>17506</th>\n",
              "      <td>5</td>\n",
              "      <td>сбербанк отличный банк приложение мненравиться...</td>\n",
              "      <td>2017-07-11</td>\n",
              "    </tr>\n",
              "  </tbody>\n",
              "</table>\n",
              "</div>\n",
              "      <button class=\"colab-df-convert\" onclick=\"convertToInteractive('df-caa8dc56-54bc-4f2e-a003-48efc84e0a5d')\"\n",
              "              title=\"Convert this dataframe to an interactive table.\"\n",
              "              style=\"display:none;\">\n",
              "        \n",
              "  <svg xmlns=\"http://www.w3.org/2000/svg\" height=\"24px\"viewBox=\"0 0 24 24\"\n",
              "       width=\"24px\">\n",
              "    <path d=\"M0 0h24v24H0V0z\" fill=\"none\"/>\n",
              "    <path d=\"M18.56 5.44l.94 2.06.94-2.06 2.06-.94-2.06-.94-.94-2.06-.94 2.06-2.06.94zm-11 1L8.5 8.5l.94-2.06 2.06-.94-2.06-.94L8.5 2.5l-.94 2.06-2.06.94zm10 10l.94 2.06.94-2.06 2.06-.94-2.06-.94-.94-2.06-.94 2.06-2.06.94z\"/><path d=\"M17.41 7.96l-1.37-1.37c-.4-.4-.92-.59-1.43-.59-.52 0-1.04.2-1.43.59L10.3 9.45l-7.72 7.72c-.78.78-.78 2.05 0 2.83L4 21.41c.39.39.9.59 1.41.59.51 0 1.02-.2 1.41-.59l7.78-7.78 2.81-2.81c.8-.78.8-2.07 0-2.86zM5.41 20L4 18.59l7.72-7.72 1.47 1.35L5.41 20z\"/>\n",
              "  </svg>\n",
              "      </button>\n",
              "      \n",
              "  <style>\n",
              "    .colab-df-container {\n",
              "      display:flex;\n",
              "      flex-wrap:wrap;\n",
              "      gap: 12px;\n",
              "    }\n",
              "\n",
              "    .colab-df-convert {\n",
              "      background-color: #E8F0FE;\n",
              "      border: none;\n",
              "      border-radius: 50%;\n",
              "      cursor: pointer;\n",
              "      display: none;\n",
              "      fill: #1967D2;\n",
              "      height: 32px;\n",
              "      padding: 0 0 0 0;\n",
              "      width: 32px;\n",
              "    }\n",
              "\n",
              "    .colab-df-convert:hover {\n",
              "      background-color: #E2EBFA;\n",
              "      box-shadow: 0px 1px 2px rgba(60, 64, 67, 0.3), 0px 1px 3px 1px rgba(60, 64, 67, 0.15);\n",
              "      fill: #174EA6;\n",
              "    }\n",
              "\n",
              "    [theme=dark] .colab-df-convert {\n",
              "      background-color: #3B4455;\n",
              "      fill: #D2E3FC;\n",
              "    }\n",
              "\n",
              "    [theme=dark] .colab-df-convert:hover {\n",
              "      background-color: #434B5C;\n",
              "      box-shadow: 0px 1px 3px 1px rgba(0, 0, 0, 0.15);\n",
              "      filter: drop-shadow(0px 1px 2px rgba(0, 0, 0, 0.3));\n",
              "      fill: #FFFFFF;\n",
              "    }\n",
              "  </style>\n",
              "\n",
              "      <script>\n",
              "        const buttonEl =\n",
              "          document.querySelector('#df-caa8dc56-54bc-4f2e-a003-48efc84e0a5d button.colab-df-convert');\n",
              "        buttonEl.style.display =\n",
              "          google.colab.kernel.accessAllowed ? 'block' : 'none';\n",
              "\n",
              "        async function convertToInteractive(key) {\n",
              "          const element = document.querySelector('#df-caa8dc56-54bc-4f2e-a003-48efc84e0a5d');\n",
              "          const dataTable =\n",
              "            await google.colab.kernel.invokeFunction('convertToInteractive',\n",
              "                                                     [key], {});\n",
              "          if (!dataTable) return;\n",
              "\n",
              "          const docLinkHtml = 'Like what you see? Visit the ' +\n",
              "            '<a target=\"_blank\" href=https://colab.research.google.com/notebooks/data_table.ipynb>data table notebook</a>'\n",
              "            + ' to learn more about interactive tables.';\n",
              "          element.innerHTML = '';\n",
              "          dataTable['output_type'] = 'display_data';\n",
              "          await google.colab.output.renderOutput(dataTable, element);\n",
              "          const docLink = document.createElement('div');\n",
              "          docLink.innerHTML = docLinkHtml;\n",
              "          element.appendChild(docLink);\n",
              "        }\n",
              "      </script>\n",
              "    </div>\n",
              "  </div>\n",
              "  "
            ]
          },
          "metadata": {},
          "execution_count": 8
        }
      ]
    },
    {
      "cell_type": "code",
      "source": [
        "train_df, test_val_df = train_test_split(df, test_size = 0.3, random_state = 49)\n",
        "test_df, val_df = train_test_split(test_val_df, test_size = 0.5, random_state = 49)"
      ],
      "metadata": {
        "id": "p-eWJZfK76HD"
      },
      "execution_count": 9,
      "outputs": []
    },
    {
      "cell_type": "code",
      "source": [
        "train_df.to_csv('train_df.csv')\n",
        "test_df.to_csv('test_df.csv')\n",
        "val_df.to_csv('val_df.csv')\n",
        "test_val_df.to_csv('test_val_df.csv')"
      ],
      "metadata": {
        "id": "gtNP_aoJ8DUc"
      },
      "execution_count": 10,
      "outputs": []
    },
    {
      "cell_type": "code",
      "source": [
        "text_corpus_train = train_df['Content'].values\n",
        "text_corpus_valid = val_df['Content'].values\n",
        "text_corpus_test = test_df['Content'].values"
      ],
      "metadata": {
        "id": "f-KTGEV18E_h"
      },
      "execution_count": 11,
      "outputs": []
    },
    {
      "cell_type": "code",
      "source": [
        "num_classes = len(df['Rating'].unique())\n",
        "num_classes"
      ],
      "metadata": {
        "colab": {
          "base_uri": "https://localhost:8080/"
        },
        "id": "xQ1fsNDc8GsS",
        "outputId": "544bb8d6-2502-42f9-adbd-65265b8661e6"
      },
      "execution_count": 12,
      "outputs": [
        {
          "output_type": "execute_result",
          "data": {
            "text/plain": [
              "5"
            ]
          },
          "metadata": {},
          "execution_count": 12
        }
      ]
    },
    {
      "cell_type": "code",
      "source": [
        "tokenizer = Tokenizer(num_words = None, \n",
        "                     filters = '#$%&()*+-<=>@[\\\\]^_`{|}~\\t\\n',\n",
        "                     lower = False, split = ' ')\n",
        "tokenizer.fit_on_texts(text_corpus_train)\n",
        "\n",
        "sequences_train = tokenizer.texts_to_sequences(text_corpus_train)\n",
        "sequences_val = tokenizer.texts_to_sequences(text_corpus_valid)\n",
        "sequences_test = tokenizer.texts_to_sequences(text_corpus_test)\n",
        "\n",
        "word_count = len(tokenizer.index_word) + 1\n",
        "training_length = max([len(i.split()) for i in text_corpus_train])\n",
        "\n",
        "X_train = pad_sequences(sequences_train, maxlen=training_length)\n",
        "X_valid = pad_sequences(sequences_val, maxlen=training_length)\n",
        "\n",
        "y_train = keras.utils.np_utils.to_categorical(train_df['Rating'], num_classes+1)\n",
        "y_test = keras.utils.np_utils.to_categorical(test_df['Rating'], num_classes+1)\n",
        "y_val = keras.utils.np_utils.to_categorical(val_df['Rating'], num_classes+1)"
      ],
      "metadata": {
        "id": "-QfLkm0p8I2y"
      },
      "execution_count": 13,
      "outputs": []
    },
    {
      "cell_type": "markdown",
      "source": [
        "---"
      ],
      "metadata": {
        "id": "TnI-w-X-AWkh"
      }
    },
    {
      "cell_type": "code",
      "source": [
        "# RNN\n",
        "\n",
        "model = Sequential()\n",
        "\n",
        "model.add(\n",
        "    Embedding(input_dim = word_count,\n",
        "              input_length = training_length,\n",
        "              output_dim = 30,\n",
        "              trainable = True,\n",
        "              mask_zero = True))\n",
        "model.add(Masking(mask_value = 0.0))\n",
        "\n",
        "model.add(SimpleRNN(132))\n",
        "model.add(Dense(132, activation = 'relu'))\n",
        "model.add(Dropout(0.5))\n",
        "model.add(Dense(num_classes+1, activation = 'softmax'))\n",
        "\n",
        "model.compile(\n",
        "    optimizer = 'adam', loss = 'categorical_crossentropy', metrics = ['accuracy'])\n",
        "\n",
        "early_stopping = EarlyStopping(monitor = 'val_loss', patience = 2, restore_best_weights = 1)\n",
        "\n",
        "model.summary()"
      ],
      "metadata": {
        "colab": {
          "base_uri": "https://localhost:8080/"
        },
        "id": "l-Hxn1kw8LgB",
        "outputId": "e67e75b8-4068-4626-c13b-57e79f10de91"
      },
      "execution_count": 14,
      "outputs": [
        {
          "output_type": "stream",
          "name": "stdout",
          "text": [
            "Model: \"sequential\"\n",
            "_________________________________________________________________\n",
            " Layer (type)                Output Shape              Param #   \n",
            "=================================================================\n",
            " embedding (Embedding)       (None, 132, 30)           294870    \n",
            "                                                                 \n",
            " masking (Masking)           (None, 132, 30)           0         \n",
            "                                                                 \n",
            " simple_rnn (SimpleRNN)      (None, 132)               21516     \n",
            "                                                                 \n",
            " dense (Dense)               (None, 132)               17556     \n",
            "                                                                 \n",
            " dropout (Dropout)           (None, 132)               0         \n",
            "                                                                 \n",
            " dense_1 (Dense)             (None, 6)                 798       \n",
            "                                                                 \n",
            "=================================================================\n",
            "Total params: 334,740\n",
            "Trainable params: 334,740\n",
            "Non-trainable params: 0\n",
            "_________________________________________________________________\n"
          ]
        }
      ]
    },
    {
      "cell_type": "code",
      "source": [
        "history = model.fit(X_train, y_train,\n",
        "                    batch_size = 512,\n",
        "                    epochs = 10,\n",
        "                    verbose = 1,\n",
        "                    validation_split = 0.1,\n",
        "                    callbacks = [early_stopping])"
      ],
      "metadata": {
        "colab": {
          "base_uri": "https://localhost:8080/"
        },
        "id": "h50Y8BYb8SEL",
        "outputId": "d998363e-5656-4f28-dd3d-100610e54c4b"
      },
      "execution_count": 15,
      "outputs": [
        {
          "output_type": "stream",
          "name": "stdout",
          "text": [
            "Epoch 1/10\n",
            "26/26 [==============================] - 16s 545ms/step - loss: 1.0507 - accuracy: 0.6804 - val_loss: 0.7886 - val_accuracy: 0.7326\n",
            "Epoch 2/10\n",
            "26/26 [==============================] - 16s 605ms/step - loss: 0.8234 - accuracy: 0.7349 - val_loss: 0.7454 - val_accuracy: 0.7595\n",
            "Epoch 3/10\n",
            "26/26 [==============================] - 25s 980ms/step - loss: 0.7318 - accuracy: 0.7599 - val_loss: 0.6812 - val_accuracy: 0.7678\n",
            "Epoch 4/10\n",
            "26/26 [==============================] - 17s 640ms/step - loss: 0.6431 - accuracy: 0.7804 - val_loss: 0.6607 - val_accuracy: 0.7809\n",
            "Epoch 5/10\n",
            "26/26 [==============================] - 15s 580ms/step - loss: 0.5784 - accuracy: 0.7973 - val_loss: 0.6569 - val_accuracy: 0.7809\n",
            "Epoch 6/10\n",
            "26/26 [==============================] - 14s 533ms/step - loss: 0.5241 - accuracy: 0.8147 - val_loss: 0.6641 - val_accuracy: 0.7754\n",
            "Epoch 7/10\n",
            "26/26 [==============================] - 13s 516ms/step - loss: 0.4652 - accuracy: 0.8383 - val_loss: 0.6989 - val_accuracy: 0.7747\n"
          ]
        }
      ]
    },
    {
      "cell_type": "code",
      "source": [
        "score = model.evaluate(X_valid, y_val, batch_size = 512, verbose = 1)\n",
        "print('\\n')\n",
        "print('Test score:', score[0])\n",
        "print('Test accuracy:', score[1])"
      ],
      "metadata": {
        "colab": {
          "base_uri": "https://localhost:8080/"
        },
        "id": "HXJ1qsLF9RzS",
        "outputId": "9eaa99cd-fc68-47d4-ff03-c7257bd669b7"
      },
      "execution_count": 17,
      "outputs": [
        {
          "output_type": "stream",
          "name": "stdout",
          "text": [
            "7/7 [==============================] - 1s 139ms/step - loss: 0.6870 - accuracy: 0.7715\n",
            "\n",
            "\n",
            "Test score: 0.6869747042655945\n",
            "Test accuracy: 0.7715392112731934\n"
          ]
        }
      ]
    },
    {
      "cell_type": "code",
      "source": [
        "results = []\n",
        "\n",
        "results.append(['RNN', score[0], score[1]])"
      ],
      "metadata": {
        "id": "S8A9K5-v8leH"
      },
      "execution_count": 18,
      "outputs": []
    },
    {
      "cell_type": "markdown",
      "source": [
        "---"
      ],
      "metadata": {
        "id": "L_bzZJAN8mHA"
      }
    },
    {
      "cell_type": "code",
      "source": [
        "# LSTM\n",
        "\n",
        "model = Sequential()\n",
        "\n",
        "model.add(\n",
        "    Embedding(input_dim = word_count,\n",
        "              input_length = training_length,\n",
        "              output_dim = 30,\n",
        "              trainable = True,\n",
        "              mask_zero = True))\n",
        "model.add(Masking(mask_value = 0.0))\n",
        "model.add(LSTM(132, recurrent_dropout = 0.2))\n",
        "model.add(Dense(132, activation = 'relu'))\n",
        "model.add(Dropout(0.5))\n",
        "model.add(Dense(num_classes+1, activation = 'softmax'))"
      ],
      "metadata": {
        "id": "ey8xJxJP8mlU"
      },
      "execution_count": 19,
      "outputs": []
    },
    {
      "cell_type": "code",
      "source": [
        "model.compile(\n",
        "    optimizer = 'adam', loss = 'categorical_crossentropy', metrics = ['accuracy'])\n",
        "model.summary()"
      ],
      "metadata": {
        "colab": {
          "base_uri": "https://localhost:8080/"
        },
        "id": "eFk4LIeF83nG",
        "outputId": "194ea3d5-4d95-450f-fc35-207b584c7728"
      },
      "execution_count": 20,
      "outputs": [
        {
          "output_type": "stream",
          "name": "stdout",
          "text": [
            "Model: \"sequential_1\"\n",
            "_________________________________________________________________\n",
            " Layer (type)                Output Shape              Param #   \n",
            "=================================================================\n",
            " embedding_1 (Embedding)     (None, 132, 30)           294870    \n",
            "                                                                 \n",
            " masking_1 (Masking)         (None, 132, 30)           0         \n",
            "                                                                 \n",
            " lstm (LSTM)                 (None, 132)               86064     \n",
            "                                                                 \n",
            " dense_2 (Dense)             (None, 132)               17556     \n",
            "                                                                 \n",
            " dropout_1 (Dropout)         (None, 132)               0         \n",
            "                                                                 \n",
            " dense_3 (Dense)             (None, 6)                 798       \n",
            "                                                                 \n",
            "=================================================================\n",
            "Total params: 399,288\n",
            "Trainable params: 399,288\n",
            "Non-trainable params: 0\n",
            "_________________________________________________________________\n"
          ]
        }
      ]
    },
    {
      "cell_type": "code",
      "source": [
        "early_stopping = EarlyStopping(monitor = 'val_loss', patience = 2, restore_best_weights = 1)  \n",
        "\n",
        "history = model.fit(X_train, y_train,\n",
        "                    batch_size = 512,\n",
        "                    epochs = 10,\n",
        "                    verbose = 1,\n",
        "                    validation_split = 0.1,\n",
        "                    callbacks = [early_stopping])"
      ],
      "metadata": {
        "colab": {
          "base_uri": "https://localhost:8080/"
        },
        "id": "FGzcRsFe9zx2",
        "outputId": "639667cc-6d3a-46f1-c03f-0cc498ae5ff6"
      },
      "execution_count": 21,
      "outputs": [
        {
          "output_type": "stream",
          "name": "stdout",
          "text": [
            "Epoch 1/10\n",
            "26/26 [==============================] - 60s 2s/step - loss: 1.2078 - accuracy: 0.6839 - val_loss: 0.8779 - val_accuracy: 0.7291\n",
            "Epoch 2/10\n",
            "26/26 [==============================] - 53s 2s/step - loss: 0.8832 - accuracy: 0.7112 - val_loss: 0.7586 - val_accuracy: 0.7554\n",
            "Epoch 3/10\n",
            "26/26 [==============================] - 70s 3s/step - loss: 0.7607 - accuracy: 0.7503 - val_loss: 0.6858 - val_accuracy: 0.7699\n",
            "Epoch 4/10\n",
            "26/26 [==============================] - 68s 3s/step - loss: 0.6765 - accuracy: 0.7695 - val_loss: 0.6599 - val_accuracy: 0.7719\n",
            "Epoch 5/10\n",
            "26/26 [==============================] - 53s 2s/step - loss: 0.6205 - accuracy: 0.7839 - val_loss: 0.6517 - val_accuracy: 0.7844\n",
            "Epoch 6/10\n",
            "26/26 [==============================] - 53s 2s/step - loss: 0.5677 - accuracy: 0.7996 - val_loss: 0.6613 - val_accuracy: 0.7761\n",
            "Epoch 7/10\n",
            "26/26 [==============================] - 52s 2s/step - loss: 0.5403 - accuracy: 0.8098 - val_loss: 0.6752 - val_accuracy: 0.7706\n"
          ]
        }
      ]
    },
    {
      "cell_type": "code",
      "source": [
        "score = model.evaluate(X_valid, y_val, batch_size = 512, verbose = 1)\n",
        "print('\\n')\n",
        "print('Test score:', score[0])\n",
        "print('Test accuracy:', score[1])\n",
        "\n",
        "results.append(['LSTM', score[0], score[1]])"
      ],
      "metadata": {
        "colab": {
          "base_uri": "https://localhost:8080/"
        },
        "id": "l37jUSJm-AP-",
        "outputId": "5b7af57f-d64e-457d-a8ef-26634839c120"
      },
      "execution_count": 22,
      "outputs": [
        {
          "output_type": "stream",
          "name": "stdout",
          "text": [
            "7/7 [==============================] - 3s 410ms/step - loss: 0.6737 - accuracy: 0.7709\n",
            "\n",
            "\n",
            "Test score: 0.6737221479415894\n",
            "Test accuracy: 0.7708938121795654\n"
          ]
        }
      ]
    },
    {
      "cell_type": "markdown",
      "source": [
        "---"
      ],
      "metadata": {
        "id": "JcPb0wXu-G1X"
      }
    },
    {
      "cell_type": "code",
      "source": [
        "# GRU\n",
        "\n",
        "model = Sequential()\n",
        "\n",
        "model.add(\n",
        "    Embedding(input_dim = word_count,\n",
        "              input_length = training_length,\n",
        "              output_dim = 30,\n",
        "              trainable = True,\n",
        "              mask_zero = True))\n",
        "model.add(Masking(mask_value = 0.0))\n",
        "model.add(GRU(64, recurrent_dropout = 0.2))\n",
        "model.add(Dense(64, activation = 'relu'))\n",
        "model.add(Dropout(0.5))\n",
        "model.add(Dense(num_classes+1, activation = 'softmax'))\n",
        "model.compile(\n",
        "    optimizer = 'adam', loss = 'categorical_crossentropy', metrics = ['accuracy'])\n",
        "\n",
        "model.summary()"
      ],
      "metadata": {
        "colab": {
          "base_uri": "https://localhost:8080/"
        },
        "id": "7hkMsIaa-F5X",
        "outputId": "9e5c75f1-a949-47ce-933e-c851a4e6637a"
      },
      "execution_count": 23,
      "outputs": [
        {
          "output_type": "stream",
          "name": "stdout",
          "text": [
            "Model: \"sequential_2\"\n",
            "_________________________________________________________________\n",
            " Layer (type)                Output Shape              Param #   \n",
            "=================================================================\n",
            " embedding_2 (Embedding)     (None, 132, 30)           294870    \n",
            "                                                                 \n",
            " masking_2 (Masking)         (None, 132, 30)           0         \n",
            "                                                                 \n",
            " gru (GRU)                   (None, 64)                18432     \n",
            "                                                                 \n",
            " dense_4 (Dense)             (None, 64)                4160      \n",
            "                                                                 \n",
            " dropout_2 (Dropout)         (None, 64)                0         \n",
            "                                                                 \n",
            " dense_5 (Dense)             (None, 6)                 390       \n",
            "                                                                 \n",
            "=================================================================\n",
            "Total params: 317,852\n",
            "Trainable params: 317,852\n",
            "Non-trainable params: 0\n",
            "_________________________________________________________________\n"
          ]
        }
      ]
    },
    {
      "cell_type": "code",
      "source": [
        "early_stopping = EarlyStopping(monitor = 'val_loss',patience = 2, restore_best_weights = 1)  \n",
        "\n",
        "\n",
        "history = model.fit(X_train, y_train,\n",
        "                    batch_size = 512,\n",
        "                    epochs = 10,\n",
        "                    verbose = 1,\n",
        "                    validation_split = 0.1,\n",
        "                    callbacks = [early_stopping])"
      ],
      "metadata": {
        "colab": {
          "base_uri": "https://localhost:8080/"
        },
        "id": "qE_6prAC-w6S",
        "outputId": "a75f1b0c-870a-4f77-9749-64aa53e2d1f7"
      },
      "execution_count": 24,
      "outputs": [
        {
          "output_type": "stream",
          "name": "stdout",
          "text": [
            "Epoch 1/10\n",
            "26/26 [==============================] - 22s 737ms/step - loss: 1.4696 - accuracy: 0.6783 - val_loss: 0.9642 - val_accuracy: 0.7291\n",
            "Epoch 2/10\n",
            "26/26 [==============================] - 16s 634ms/step - loss: 0.9471 - accuracy: 0.7052 - val_loss: 0.7864 - val_accuracy: 0.7291\n",
            "Epoch 3/10\n",
            "26/26 [==============================] - 17s 662ms/step - loss: 0.8130 - accuracy: 0.7138 - val_loss: 0.7357 - val_accuracy: 0.7478\n",
            "Epoch 4/10\n",
            "26/26 [==============================] - 17s 639ms/step - loss: 0.7345 - accuracy: 0.7468 - val_loss: 0.7054 - val_accuracy: 0.7657\n",
            "Epoch 5/10\n",
            "26/26 [==============================] - 17s 652ms/step - loss: 0.6681 - accuracy: 0.7746 - val_loss: 0.6851 - val_accuracy: 0.7671\n",
            "Epoch 6/10\n",
            "26/26 [==============================] - 17s 648ms/step - loss: 0.6106 - accuracy: 0.7911 - val_loss: 0.6765 - val_accuracy: 0.7692\n",
            "Epoch 7/10\n",
            "26/26 [==============================] - 17s 660ms/step - loss: 0.5607 - accuracy: 0.8055 - val_loss: 0.6898 - val_accuracy: 0.7685\n",
            "Epoch 8/10\n",
            "26/26 [==============================] - 17s 648ms/step - loss: 0.5245 - accuracy: 0.8203 - val_loss: 0.7033 - val_accuracy: 0.7713\n"
          ]
        }
      ]
    },
    {
      "cell_type": "code",
      "source": [
        "score = model.evaluate(X_valid, y_val, batch_size = 512, verbose = 1)\n",
        "print('\\n')\n",
        "print('Test score:', score[0])\n",
        "print('Test accuracy:', score[1])\n",
        "\n",
        "results.append(['GRU', score[0], score[1]])"
      ],
      "metadata": {
        "colab": {
          "base_uri": "https://localhost:8080/"
        },
        "id": "1SdhHbwn-3VJ",
        "outputId": "3e7d9d0c-0dd1-4958-f69a-27d9bc022c47"
      },
      "execution_count": 25,
      "outputs": [
        {
          "output_type": "stream",
          "name": "stdout",
          "text": [
            "7/7 [==============================] - 1s 110ms/step - loss: 0.6928 - accuracy: 0.7599\n",
            "\n",
            "\n",
            "Test score: 0.6928486227989197\n",
            "Test accuracy: 0.7599225640296936\n"
          ]
        }
      ]
    },
    {
      "cell_type": "markdown",
      "source": [
        "---"
      ],
      "metadata": {
        "id": "424vwAR2--D_"
      }
    },
    {
      "cell_type": "code",
      "source": [
        "# CNN\n",
        "\n",
        "model = Sequential()\n",
        "\n",
        "model.add(\n",
        "    Embedding(input_dim = word_count,\n",
        "              input_length = training_length,\n",
        "              output_dim = 30,\n",
        "              trainable = True,\n",
        "              mask_zero = True))\n",
        "model.add(Conv1D(128, 3))\n",
        "model.add(Activation(\"relu\"))\n",
        "model.add(GlobalMaxPool1D())\n",
        "model.add(Dense(10))\n",
        "model.add(Activation(\"relu\"))\n",
        "model.add(Dropout(0.5))\n",
        "model.add(Dense(num_classes+1, activation = 'softmax'))\n",
        "\n",
        "model.compile(\n",
        "    optimizer = 'adam', loss = 'categorical_crossentropy', metrics = ['accuracy'])\n",
        "\n",
        "model.summary()"
      ],
      "metadata": {
        "colab": {
          "base_uri": "https://localhost:8080/"
        },
        "id": "xFWtxM3r--oE",
        "outputId": "1881599d-b0c7-4902-8a97-d57ba9adefcf"
      },
      "execution_count": 26,
      "outputs": [
        {
          "output_type": "stream",
          "name": "stdout",
          "text": [
            "Model: \"sequential_3\"\n",
            "_________________________________________________________________\n",
            " Layer (type)                Output Shape              Param #   \n",
            "=================================================================\n",
            " embedding_3 (Embedding)     (None, 132, 30)           294870    \n",
            "                                                                 \n",
            " conv1d (Conv1D)             (None, 130, 128)          11648     \n",
            "                                                                 \n",
            " activation (Activation)     (None, 130, 128)          0         \n",
            "                                                                 \n",
            " global_max_pooling1d (Globa  (None, 128)              0         \n",
            " lMaxPooling1D)                                                  \n",
            "                                                                 \n",
            " dense_6 (Dense)             (None, 10)                1290      \n",
            "                                                                 \n",
            " activation_1 (Activation)   (None, 10)                0         \n",
            "                                                                 \n",
            " dropout_3 (Dropout)         (None, 10)                0         \n",
            "                                                                 \n",
            " dense_7 (Dense)             (None, 6)                 66        \n",
            "                                                                 \n",
            "=================================================================\n",
            "Total params: 307,874\n",
            "Trainable params: 307,874\n",
            "Non-trainable params: 0\n",
            "_________________________________________________________________\n"
          ]
        }
      ]
    },
    {
      "cell_type": "code",
      "source": [
        "early_stopping = EarlyStopping(monitor = 'val_loss', patience = 2, restore_best_weights = 1)  \n",
        "\n",
        "\n",
        "history = model.fit(X_train, y_train,\n",
        "                    batch_size = 512,\n",
        "                    epochs = 10,\n",
        "                    verbose = 1,\n",
        "                    validation_split = 0.1,\n",
        "                    callbacks = [early_stopping])"
      ],
      "metadata": {
        "colab": {
          "base_uri": "https://localhost:8080/"
        },
        "id": "5KB5Mh80ARm_",
        "outputId": "e5905b88-250a-49ff-a924-369e2c1fd137"
      },
      "execution_count": 27,
      "outputs": [
        {
          "output_type": "stream",
          "name": "stdout",
          "text": [
            "Epoch 1/10\n",
            "26/26 [==============================] - 5s 175ms/step - loss: 1.6141 - accuracy: 0.6700 - val_loss: 1.2803 - val_accuracy: 0.7291\n",
            "Epoch 2/10\n",
            "26/26 [==============================] - 4s 167ms/step - loss: 1.2350 - accuracy: 0.7038 - val_loss: 0.9323 - val_accuracy: 0.7291\n",
            "Epoch 3/10\n",
            "26/26 [==============================] - 4s 166ms/step - loss: 1.0858 - accuracy: 0.7054 - val_loss: 0.8059 - val_accuracy: 0.7422\n",
            "Epoch 4/10\n",
            "26/26 [==============================] - 5s 174ms/step - loss: 0.9526 - accuracy: 0.7200 - val_loss: 0.7047 - val_accuracy: 0.7713\n",
            "Epoch 5/10\n",
            "26/26 [==============================] - 4s 171ms/step - loss: 0.8620 - accuracy: 0.7307 - val_loss: 0.6760 - val_accuracy: 0.7802\n",
            "Epoch 6/10\n",
            "26/26 [==============================] - 5s 175ms/step - loss: 0.7992 - accuracy: 0.7447 - val_loss: 0.6666 - val_accuracy: 0.7816\n",
            "Epoch 7/10\n",
            "26/26 [==============================] - 4s 172ms/step - loss: 0.7733 - accuracy: 0.7499 - val_loss: 0.6590 - val_accuracy: 0.7830\n",
            "Epoch 8/10\n",
            "26/26 [==============================] - 4s 172ms/step - loss: 0.7483 - accuracy: 0.7509 - val_loss: 0.6561 - val_accuracy: 0.7830\n",
            "Epoch 9/10\n",
            "26/26 [==============================] - 5s 180ms/step - loss: 0.7252 - accuracy: 0.7519 - val_loss: 0.6565 - val_accuracy: 0.7844\n",
            "Epoch 10/10\n",
            "26/26 [==============================] - 5s 174ms/step - loss: 0.7105 - accuracy: 0.7508 - val_loss: 0.6546 - val_accuracy: 0.7802\n"
          ]
        }
      ]
    },
    {
      "cell_type": "code",
      "source": [
        "score = model.evaluate(X_valid, y_val, batch_size = 512, verbose = 1)\n",
        "print('\\n')\n",
        "print('Test score:', score[0])\n",
        "print('Test accuracy:', score[1])\n",
        "\n",
        "results.append(['CNN', score[0], score[1]])"
      ],
      "metadata": {
        "colab": {
          "base_uri": "https://localhost:8080/"
        },
        "id": "V1HX8U3bAhwo",
        "outputId": "da89b848-18a8-4d13-db1a-10956341c3c6"
      },
      "execution_count": 28,
      "outputs": [
        {
          "output_type": "stream",
          "name": "stdout",
          "text": [
            "7/7 [==============================] - 0s 40ms/step - loss: 0.6996 - accuracy: 0.7722\n",
            "\n",
            "\n",
            "Test score: 0.6996115446090698\n",
            "Test accuracy: 0.7721845507621765\n"
          ]
        }
      ]
    },
    {
      "cell_type": "markdown",
      "source": [
        "---"
      ],
      "metadata": {
        "id": "3HLUmufjAspb"
      }
    },
    {
      "cell_type": "code",
      "source": [
        "# RNN + CNN\n",
        "\n",
        "model = Sequential()\n",
        "\n",
        "model.add(\n",
        "    Embedding(input_dim = word_count,\n",
        "              input_length = training_length,\n",
        "              output_dim = 30,\n",
        "              trainable = True,\n",
        "              mask_zero = True))\n",
        "model.add(SimpleRNN(132, recurrent_dropout = 0.2, return_sequences = \"True\"))\n",
        "model.add(Conv1D(132, 3, activation = \"linear\"))\n",
        "model.add(Conv1D(64, 1, activation = \"linear\")) \n",
        "model.add(Flatten())                      \n",
        "model.add(Dropout(0.5)) \n",
        "model.add(Dense(num_classes+1, activation = \"softmax\"))      \n",
        "\n",
        "\n",
        "model.compile(\n",
        "    optimizer = 'adam', loss = 'categorical_crossentropy', metrics = ['accuracy'])\n",
        "\n",
        "model.summary()"
      ],
      "metadata": {
        "colab": {
          "base_uri": "https://localhost:8080/"
        },
        "id": "XfV0k8uRAtS1",
        "outputId": "b000a418-8f46-4ab6-a6e6-87ae50a4594e"
      },
      "execution_count": 29,
      "outputs": [
        {
          "output_type": "stream",
          "name": "stdout",
          "text": [
            "Model: \"sequential_4\"\n",
            "_________________________________________________________________\n",
            " Layer (type)                Output Shape              Param #   \n",
            "=================================================================\n",
            " embedding_4 (Embedding)     (None, 132, 30)           294870    \n",
            "                                                                 \n",
            " simple_rnn_1 (SimpleRNN)    (None, 132, 132)          21516     \n",
            "                                                                 \n",
            " conv1d_1 (Conv1D)           (None, 130, 132)          52404     \n",
            "                                                                 \n",
            " conv1d_2 (Conv1D)           (None, 130, 64)           8512      \n",
            "                                                                 \n",
            " flatten (Flatten)           (None, 8320)              0         \n",
            "                                                                 \n",
            " dropout_4 (Dropout)         (None, 8320)              0         \n",
            "                                                                 \n",
            " dense_8 (Dense)             (None, 6)                 49926     \n",
            "                                                                 \n",
            "=================================================================\n",
            "Total params: 427,228\n",
            "Trainable params: 427,228\n",
            "Non-trainable params: 0\n",
            "_________________________________________________________________\n"
          ]
        }
      ]
    },
    {
      "cell_type": "code",
      "source": [
        "early_stopping = EarlyStopping(monitor = 'val_loss', patience = 2, restore_best_weights = 1)  \n",
        "\n",
        "\n",
        "history = model.fit(X_train, y_train,\n",
        "                    batch_size = 512,\n",
        "                    epochs = 10,\n",
        "                    verbose = 1,\n",
        "                    validation_split = 0.1,\n",
        "                    callbacks = [early_stopping])"
      ],
      "metadata": {
        "colab": {
          "base_uri": "https://localhost:8080/"
        },
        "id": "w64QpyESBO63",
        "outputId": "01e4a533-daf1-4f7a-9dd3-90234b4c1b67"
      },
      "execution_count": 30,
      "outputs": [
        {
          "output_type": "stream",
          "name": "stdout",
          "text": [
            "Epoch 1/10\n",
            "26/26 [==============================] - 35s 1s/step - loss: 1.1316 - accuracy: 0.6923 - val_loss: 0.7953 - val_accuracy: 0.7512\n",
            "Epoch 2/10\n",
            "26/26 [==============================] - 32s 1s/step - loss: 0.8042 - accuracy: 0.7362 - val_loss: 0.7488 - val_accuracy: 0.7491\n",
            "Epoch 3/10\n",
            "26/26 [==============================] - 32s 1s/step - loss: 0.6834 - accuracy: 0.7679 - val_loss: 0.6750 - val_accuracy: 0.7816\n",
            "Epoch 4/10\n",
            "26/26 [==============================] - 32s 1s/step - loss: 0.5959 - accuracy: 0.7890 - val_loss: 0.6820 - val_accuracy: 0.7795\n",
            "Epoch 5/10\n",
            "26/26 [==============================] - 32s 1s/step - loss: 0.5347 - accuracy: 0.8047 - val_loss: 0.7286 - val_accuracy: 0.7795\n"
          ]
        }
      ]
    },
    {
      "cell_type": "code",
      "source": [
        "score = model.evaluate(X_valid, y_val, batch_size = 512, verbose = 1)\n",
        "print('\\n')\n",
        "print('Test score:', score[0])\n",
        "print('Test accuracy:', score[1])\n",
        "\n",
        "results.append(['RNN + CNN', score[0], score[1]])"
      ],
      "metadata": {
        "colab": {
          "base_uri": "https://localhost:8080/"
        },
        "id": "c4Q8sXWsBYb4",
        "outputId": "c02d35ab-aaa0-48e6-b98d-ec03051b7a10"
      },
      "execution_count": 31,
      "outputs": [
        {
          "output_type": "stream",
          "name": "stdout",
          "text": [
            "7/7 [==============================] - 2s 274ms/step - loss: 0.7066 - accuracy: 0.7554\n",
            "\n",
            "\n",
            "Test score: 0.7065978646278381\n",
            "Test accuracy: 0.7554049491882324\n"
          ]
        }
      ]
    },
    {
      "cell_type": "markdown",
      "source": [
        "---"
      ],
      "metadata": {
        "id": "HdJtVijWBeiO"
      }
    },
    {
      "cell_type": "code",
      "source": [
        "results_df = pd.DataFrame(results, columns = ['Model', 'Test score', 'Test accuracy'])\n",
        "results_df"
      ],
      "metadata": {
        "colab": {
          "base_uri": "https://localhost:8080/",
          "height": 206
        },
        "id": "YBtdv6QUBdiS",
        "outputId": "8eae80a3-89ea-4557-c947-ab75486401c1"
      },
      "execution_count": 32,
      "outputs": [
        {
          "output_type": "execute_result",
          "data": {
            "text/plain": [
              "       Model  Test score  Test accuracy\n",
              "0        RNN    0.686975       0.771539\n",
              "1       LSTM    0.673722       0.770894\n",
              "2        GRU    0.692849       0.759923\n",
              "3        CNN    0.699612       0.772185\n",
              "4  RNN + CNN    0.706598       0.755405"
            ],
            "text/html": [
              "\n",
              "  <div id=\"df-7bf2e63b-e4d5-4c5a-92ac-9fe94a3c4d5f\">\n",
              "    <div class=\"colab-df-container\">\n",
              "      <div>\n",
              "<style scoped>\n",
              "    .dataframe tbody tr th:only-of-type {\n",
              "        vertical-align: middle;\n",
              "    }\n",
              "\n",
              "    .dataframe tbody tr th {\n",
              "        vertical-align: top;\n",
              "    }\n",
              "\n",
              "    .dataframe thead th {\n",
              "        text-align: right;\n",
              "    }\n",
              "</style>\n",
              "<table border=\"1\" class=\"dataframe\">\n",
              "  <thead>\n",
              "    <tr style=\"text-align: right;\">\n",
              "      <th></th>\n",
              "      <th>Model</th>\n",
              "      <th>Test score</th>\n",
              "      <th>Test accuracy</th>\n",
              "    </tr>\n",
              "  </thead>\n",
              "  <tbody>\n",
              "    <tr>\n",
              "      <th>0</th>\n",
              "      <td>RNN</td>\n",
              "      <td>0.686975</td>\n",
              "      <td>0.771539</td>\n",
              "    </tr>\n",
              "    <tr>\n",
              "      <th>1</th>\n",
              "      <td>LSTM</td>\n",
              "      <td>0.673722</td>\n",
              "      <td>0.770894</td>\n",
              "    </tr>\n",
              "    <tr>\n",
              "      <th>2</th>\n",
              "      <td>GRU</td>\n",
              "      <td>0.692849</td>\n",
              "      <td>0.759923</td>\n",
              "    </tr>\n",
              "    <tr>\n",
              "      <th>3</th>\n",
              "      <td>CNN</td>\n",
              "      <td>0.699612</td>\n",
              "      <td>0.772185</td>\n",
              "    </tr>\n",
              "    <tr>\n",
              "      <th>4</th>\n",
              "      <td>RNN + CNN</td>\n",
              "      <td>0.706598</td>\n",
              "      <td>0.755405</td>\n",
              "    </tr>\n",
              "  </tbody>\n",
              "</table>\n",
              "</div>\n",
              "      <button class=\"colab-df-convert\" onclick=\"convertToInteractive('df-7bf2e63b-e4d5-4c5a-92ac-9fe94a3c4d5f')\"\n",
              "              title=\"Convert this dataframe to an interactive table.\"\n",
              "              style=\"display:none;\">\n",
              "        \n",
              "  <svg xmlns=\"http://www.w3.org/2000/svg\" height=\"24px\"viewBox=\"0 0 24 24\"\n",
              "       width=\"24px\">\n",
              "    <path d=\"M0 0h24v24H0V0z\" fill=\"none\"/>\n",
              "    <path d=\"M18.56 5.44l.94 2.06.94-2.06 2.06-.94-2.06-.94-.94-2.06-.94 2.06-2.06.94zm-11 1L8.5 8.5l.94-2.06 2.06-.94-2.06-.94L8.5 2.5l-.94 2.06-2.06.94zm10 10l.94 2.06.94-2.06 2.06-.94-2.06-.94-.94-2.06-.94 2.06-2.06.94z\"/><path d=\"M17.41 7.96l-1.37-1.37c-.4-.4-.92-.59-1.43-.59-.52 0-1.04.2-1.43.59L10.3 9.45l-7.72 7.72c-.78.78-.78 2.05 0 2.83L4 21.41c.39.39.9.59 1.41.59.51 0 1.02-.2 1.41-.59l7.78-7.78 2.81-2.81c.8-.78.8-2.07 0-2.86zM5.41 20L4 18.59l7.72-7.72 1.47 1.35L5.41 20z\"/>\n",
              "  </svg>\n",
              "      </button>\n",
              "      \n",
              "  <style>\n",
              "    .colab-df-container {\n",
              "      display:flex;\n",
              "      flex-wrap:wrap;\n",
              "      gap: 12px;\n",
              "    }\n",
              "\n",
              "    .colab-df-convert {\n",
              "      background-color: #E8F0FE;\n",
              "      border: none;\n",
              "      border-radius: 50%;\n",
              "      cursor: pointer;\n",
              "      display: none;\n",
              "      fill: #1967D2;\n",
              "      height: 32px;\n",
              "      padding: 0 0 0 0;\n",
              "      width: 32px;\n",
              "    }\n",
              "\n",
              "    .colab-df-convert:hover {\n",
              "      background-color: #E2EBFA;\n",
              "      box-shadow: 0px 1px 2px rgba(60, 64, 67, 0.3), 0px 1px 3px 1px rgba(60, 64, 67, 0.15);\n",
              "      fill: #174EA6;\n",
              "    }\n",
              "\n",
              "    [theme=dark] .colab-df-convert {\n",
              "      background-color: #3B4455;\n",
              "      fill: #D2E3FC;\n",
              "    }\n",
              "\n",
              "    [theme=dark] .colab-df-convert:hover {\n",
              "      background-color: #434B5C;\n",
              "      box-shadow: 0px 1px 3px 1px rgba(0, 0, 0, 0.15);\n",
              "      filter: drop-shadow(0px 1px 2px rgba(0, 0, 0, 0.3));\n",
              "      fill: #FFFFFF;\n",
              "    }\n",
              "  </style>\n",
              "\n",
              "      <script>\n",
              "        const buttonEl =\n",
              "          document.querySelector('#df-7bf2e63b-e4d5-4c5a-92ac-9fe94a3c4d5f button.colab-df-convert');\n",
              "        buttonEl.style.display =\n",
              "          google.colab.kernel.accessAllowed ? 'block' : 'none';\n",
              "\n",
              "        async function convertToInteractive(key) {\n",
              "          const element = document.querySelector('#df-7bf2e63b-e4d5-4c5a-92ac-9fe94a3c4d5f');\n",
              "          const dataTable =\n",
              "            await google.colab.kernel.invokeFunction('convertToInteractive',\n",
              "                                                     [key], {});\n",
              "          if (!dataTable) return;\n",
              "\n",
              "          const docLinkHtml = 'Like what you see? Visit the ' +\n",
              "            '<a target=\"_blank\" href=https://colab.research.google.com/notebooks/data_table.ipynb>data table notebook</a>'\n",
              "            + ' to learn more about interactive tables.';\n",
              "          element.innerHTML = '';\n",
              "          dataTable['output_type'] = 'display_data';\n",
              "          await google.colab.output.renderOutput(dataTable, element);\n",
              "          const docLink = document.createElement('div');\n",
              "          docLink.innerHTML = docLinkHtml;\n",
              "          element.appendChild(docLink);\n",
              "        }\n",
              "      </script>\n",
              "    </div>\n",
              "  </div>\n",
              "  "
            ]
          },
          "metadata": {},
          "execution_count": 32
        }
      ]
    }
  ]
}