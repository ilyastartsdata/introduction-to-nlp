{
 "cells": [
  {
   "cell_type": "markdown",
   "id": "b6cf4415",
   "metadata": {},
   "source": [
    "## Задание\n",
    "\n",
    "\n",
    "**Задание 1. Написать теггер на данных с русским языком**\n",
    "\n",
    "- Проверить UnigramTagger, BigramTagger, TrigramTagger и их комбмнации\n",
    "- Написать свой теггер как на занятии, попробовать разные векторайзеры, добавить знание не только букв но и слов\n",
    "- Сравнить все реализованные методы сделать выводы\n",
    "\n",
    "**Задание 2. Проверить насколько хорошо работает NER**\n",
    "\n",
    "данные брать из http://www.labinform.ru/pub/named_entities/\n",
    "\n",
    "- Проверить NER из nltk/spacy/deeppavlov\n",
    "- Написать свой нер попробовать разные подходы\n",
    "    - Передаём в сетку токен и его соседей\n",
    "    - Передаём в сетку только токен\n",
    "    - Свой вариант\n",
    "- Сравнить ваши реализованные подходы на качество (вывести precision/recall/f1_score)\n",
    "\n",
    "---"
   ]
  },
  {
   "cell_type": "code",
   "execution_count": null,
   "id": "8503743e",
   "metadata": {},
   "outputs": [],
   "source": [
    "import pandas as pd\n",
    "import nltk\n",
    "from nltk.tokenize import word_tokenize\n",
    "from nltk.tag import UnigramTagger, BigramTagger, TrigramTagger, DefaultTagger\n",
    "from nltk.corpus import stopwords\n",
    "nltk.download('averaged_perceptron_tagger')\n",
    "nltk.download('maxent_ne_chunker')\n",
    "nltk.download('words')\n",
    "import pymorphy2\n",
    "import re\n",
    "\n",
    "from tqdm.notebook import tqdm\n",
    "\n",
    "from corus import load_ne5\n",
    "\n",
    "import matplotlib\n",
    "%matplotlib inline"
   ]
  },
  {
   "cell_type": "code",
   "execution_count": null,
   "id": "05cb9240",
   "metadata": {},
   "outputs": [],
   "source": [
    "df = pd.read_csv('negative.csv', sep = ';', usecols = [3], names = ['text'])\n",
    "df.head(5)"
   ]
  },
  {
   "cell_type": "code",
   "execution_count": null,
   "id": "23424ff0",
   "metadata": {},
   "outputs": [],
   "source": [
    "words_regex = re.compile('\\w+')\n",
    "\n",
    "nltk.download('stopwords')\n",
    "nltk.download('averaged_perceptron_tagger_ru')\n",
    "\n",
    "morph = pymorphy2.MorphAnalyzer()\n",
    "\n",
    "def find_words(text, regex = words_regex):\n",
    "    tokens =  regex.findall(text.lower())\n",
    "    return [w for w in tokens if w.isalpha() and len(w) >= 3]\n",
    "\n",
    "\n",
    "stopwords_list = stopwords.words('russian')\n",
    "\n",
    "\n",
    "def lemmatize(words, lemmer = morph, stopwords = stopwords_list):\n",
    "    lemmas = [lemmer.parse(w)[0].normal_form for w in words]\n",
    "    return [w for w in lemmas if not w in stopwords \n",
    "            and w.isalpha()]\n",
    "\n",
    "def preprocess(text):\n",
    "    return (lemmatize(find_words(text)))"
   ]
  },
  {
   "cell_type": "code",
   "execution_count": null,
   "id": "61d1faed",
   "metadata": {},
   "outputs": [],
   "source": [
    "preprocessed_text = list(tqdm(map(preprocess, df['text']), total = len(df)))"
   ]
  },
  {
   "cell_type": "code",
   "execution_count": null,
   "id": "5991edf9",
   "metadata": {},
   "outputs": [],
   "source": [
    "words = list(tqdm(map(find_words, df['text']), total = len(df)))"
   ]
  },
  {
   "cell_type": "code",
   "execution_count": null,
   "id": "a0c1b9c8",
   "metadata": {},
   "outputs": [],
   "source": [
    "train_data = words[1:int(len(words) * 0.9)]\n",
    "test_data = words[int(len(words) * 0.9):]\n",
    "test_sent = words[0]"
   ]
  },
  {
   "cell_type": "code",
   "execution_count": null,
   "id": "8d0e8d4b",
   "metadata": {},
   "outputs": [],
   "source": [
    "train_data = [nltk.pos_tag(i, lang = 'rus') for i in train_data]\n",
    "test_data = [nltk.pos_tag(i, lang = 'rus') for i in test_data]"
   ]
  },
  {
   "cell_type": "code",
   "execution_count": null,
   "id": "91e977ba",
   "metadata": {},
   "outputs": [],
   "source": [
    "unigram_tagger = UnigramTagger(train_data)\n",
    "unigram_tagger.evaluate(test_data)"
   ]
  },
  {
   "cell_type": "code",
   "execution_count": null,
   "id": "4fee044f",
   "metadata": {},
   "outputs": [],
   "source": [
    "bigram_tagger = BigramTagger(train_data, backoff = unigram_tagger)\n",
    "bigram_tagger.evaluate(test_data)"
   ]
  },
  {
   "cell_type": "code",
   "execution_count": null,
   "id": "e4004502",
   "metadata": {},
   "outputs": [],
   "source": [
    "trigram_tagger = TrigramTagger(train_data, backoff = bigram_tagger)\n",
    "trigram_tagger.evaluate(test_data)"
   ]
  },
  {
   "cell_type": "code",
   "execution_count": null,
   "id": "9d9f3be7",
   "metadata": {},
   "outputs": [],
   "source": [
    "def backoff_tagger(train_sents, tagger_classes, backoff = None):\n",
    "    for cls in tagger_classes:\n",
    "        backoff = cls(train_sents, backoff = backoff)\n",
    "    return backoff\n",
    "\n",
    "\n",
    "backoff = DefaultTagger('NN') \n",
    "tag = backoff_tagger(train_data,  \n",
    "                     [UnigramTagger, BigramTagger, TrigramTagger],  \n",
    "                     backoff = backoff) \n",
    "  \n",
    "tag.evaluate(test_data)"
   ]
  },
  {
   "cell_type": "markdown",
   "id": "77983b6b",
   "metadata": {},
   "source": [
    "---"
   ]
  },
  {
   "cell_type": "code",
   "execution_count": null,
   "id": "6fa0446a",
   "metadata": {},
   "outputs": [],
   "source": [
    "!wget http://www.labinform.ru/pub/named_entities/collection5.zip"
   ]
  },
  {
   "cell_type": "code",
   "execution_count": null,
   "id": "35ecbe34",
   "metadata": {},
   "outputs": [],
   "source": [
    "!unzip collection5.zip"
   ]
  },
  {
   "cell_type": "code",
   "execution_count": null,
   "id": "186b6b35",
   "metadata": {},
   "outputs": [],
   "source": [
    "text = \"Россия рассчитывает на конструктивное воздействие США на Грузию 04/08/2008 12:08 МОСКВА, 4 авг - РИА Новости. Россия рассчитывает, что США воздействуют на Тбилиси в связи с обострением ситуации в зоне грузино-осетинского конфликта. Об этом статс-секретарь - заместитель министра иностранных дел России Григорий Карасин заявил в телефонном разговоре с заместителем госсекретаря США Дэниэлом Фридом. С российской стороны выражена глубокая озабоченность в связи с новым витком напряженности вокруг Южной Осетии, противозаконными действиями грузинской стороны по наращиванию своих вооруженных сил в регионе, бесконтрольным строительством фортификационных сооружений, - говорится в сообщении. Россия уже призвала Тбилиси к ответственной линии и рассчитывает также на конструктивное воздействие со стороны Вашингтона, - сообщил МИД России\" "
   ]
  },
  {
   "cell_type": "code",
   "execution_count": null,
   "id": "3a786932",
   "metadata": {},
   "outputs": [],
   "source": [
    "import re"
   ]
  },
  {
   "cell_type": "code",
   "execution_count": null,
   "id": "6066d277",
   "metadata": {},
   "outputs": [],
   "source": [
    "{(' '.join(c[0] for c in chunk), chunk.label() ) for chunk in nltk.ne_chunk(nltk.pos_tag(nltk.word_tokenize(text))) if hasattr(chunk, 'label') }"
   ]
  },
  {
   "cell_type": "code",
   "execution_count": null,
   "id": "ef9c7af3",
   "metadata": {},
   "outputs": [],
   "source": [
    "!python -m spacy download ru_core_news_sm"
   ]
  },
  {
   "cell_type": "code",
   "execution_count": null,
   "id": "4da0a474",
   "metadata": {},
   "outputs": [],
   "source": [
    "# spacy\n",
    "\n",
    "import spacy\n",
    "from spacy import displacy\n",
    "\n",
    "nlp = spacy.load('ru_core_news_sm')\n",
    "\n",
    "docs = nlp(text)\n",
    "displacy.render(docs, jupyter=True, style='ent')"
   ]
  }
 ],
 "metadata": {
  "kernelspec": {
   "display_name": "Python 3 (ipykernel)",
   "language": "python",
   "name": "python3"
  },
  "language_info": {
   "codemirror_mode": {
    "name": "ipython",
    "version": 3
   },
   "file_extension": ".py",
   "mimetype": "text/x-python",
   "name": "python",
   "nbconvert_exporter": "python",
   "pygments_lexer": "ipython3",
   "version": "3.9.7"
  }
 },
 "nbformat": 4,
 "nbformat_minor": 5
}
